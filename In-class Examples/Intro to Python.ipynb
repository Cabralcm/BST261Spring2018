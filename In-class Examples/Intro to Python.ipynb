{
 "cells": [
  {
   "cell_type": "markdown",
   "metadata": {},
   "source": [
    "## Intro to Python and Jupter Notebook\n",
    "\n",
    "A Jupyter notebook lets you write and execute Python code in your web browser. Jupyter notebooks make it very easy to tinker with code and execute it in bits and pieces; for this reason Jupyter notebooks are widely used in scientific computing. A Jupyter notebook is made up of a number of cells. Each cell can contain Python code or text. Every time a new cell is created, it's classified as a code cell. If you want it to be a text cell, choose `Markdown` instead of `Code` in the toolbar. You can execute any cell by clicking on it and pressing `Shift-Enter`, or clicking the `Run` button in the toolbar. When you do so, the code in the cell will run, and the output of the cell will be displayed beneath the cell. For example:"
   ]
  },
  {
   "cell_type": "code",
   "execution_count": 34,
   "metadata": {},
   "outputs": [
    {
     "name": "stdout",
     "output_type": "stream",
     "text": [
      "3\n"
     ]
    }
   ],
   "source": [
    "x = 1 + 2\n",
    "print(x)"
   ]
  },
  {
   "cell_type": "markdown",
   "metadata": {},
   "source": [
    "Global variables are shared between cells. Executing the second cell thus gives the following result:"
   ]
  },
  {
   "cell_type": "code",
   "execution_count": 35,
   "metadata": {},
   "outputs": [
    {
     "name": "stdout",
     "output_type": "stream",
     "text": [
      "6\n"
     ]
    }
   ],
   "source": [
    "y = 2 * x\n",
    "print(y)"
   ]
  },
  {
   "cell_type": "markdown",
   "metadata": {},
   "source": [
    "By convention, Jupyter notebooks are expected to be run from **top to bottom**. Failing to execute some cells or executing cells out of order can result in errors."
   ]
  },
  {
   "cell_type": "markdown",
   "metadata": {},
   "source": [
    "To edit any cell that has already been run, double click on it. If you do this to a text cell, what appears might look a little funny if you haven't been exposed to the markup langauge *Markdown*. Unlike cumbersome word processing applications, text written in Markdown can be easily shared between computers, mobile phones, and people. It’s quickly becoming the writing standard for academics, scientists, writers, and many more. Websites like GitHub and reddit use Markdown to style their comments. You won't need to be an expert with Markdown for this class, but it you'd like to learn more, this [link takes](https://www.markdowntutorial.com/) you to a really fun tutorial."
   ]
  },
  {
   "cell_type": "markdown",
   "metadata": {},
   "source": [
    "### Why Python?\n",
    "\n",
    "* Python is a clear and powerful programming language\n",
    "* Elegant syntax makes programs easy to read\n",
    "* Large standard library supports many common programming tasks\n",
    "* Python can be used in two different modes\n",
    "    * Interactive mode makes it easy to experiment with the language\n",
    "    * Standard mode is for running scripts and programs from start to finish\n",
    "* Python programs are much shorter than equivalent C, C++, or Java programs\n",
    "* High-level language and data types allow concise complex operations"
   ]
  },
  {
   "cell_type": "markdown",
   "metadata": {},
   "source": [
    "### Modules \n",
    "\n",
    "* Python **modules** are libraries of code (like packages in R)\n",
    "* They are imported using the `import` statement\n",
    "* Python comes with several modules but you can also write your own modules\n",
    "* Large Python programs are usually organized into modules and then loaded\n",
    "* For example, mathematical functions are available in the `math` module"
   ]
  },
  {
   "cell_type": "code",
   "execution_count": 36,
   "metadata": {},
   "outputs": [
    {
     "name": "stdout",
     "output_type": "stream",
     "text": [
      "3.141592653589793\n",
      "2.718281828459045\n",
      "3.1622776601683795\n",
      "1.0\n"
     ]
    }
   ],
   "source": [
    "from math import pi, sqrt\n",
    "import math\n",
    "print(math.pi)\n",
    "print(math.e)\n",
    "print(math.sqrt(10))\n",
    "print(math.sin(math.pi/2))"
   ]
  },
  {
   "cell_type": "markdown",
   "metadata": {},
   "source": [
    "### Object Types\n",
    "\n",
    "* Every piece of data stored in a Python program is an object\n",
    "* Each object has a **type**, **value**, and **identity*\n",
    "* For example:\n",
    "  * `str` (type)\n",
    "  * `\"hello\"` (value)\n",
    "  * `2915232` (identity)\n",
    "* **Attribute** is a name that is attached to a specific object and has a dot between the two: `object.attribute`\n",
    "* Some attributes are callable (functions) and others are noncallable (variables)\n",
    "* Objects are characterized by data attributes and methods\n",
    "  * A **data attribute** is a value attached to an object\n",
    "  * A **method** is a function attached to an object that performs some operation on the object\n",
    "* Object type determines which operations the object supports, i.e., which operations you can perform on it"
   ]
  },
  {
   "cell_type": "markdown",
   "metadata": {},
   "source": [
    "#### Numbers\n",
    "\n",
    "* Numbers are one type of object in Python\n",
    "* Python provides 3 numeric types: integers, floating-point numbers, and complex numbers\n",
    "* Integers have unlimited precision\n",
    "* Different numeric types can be freely mixed\n",
    "* Numbers support all the usual arithmetic operations"
   ]
  },
  {
   "cell_type": "code",
   "execution_count": 37,
   "metadata": {},
   "outputs": [
    {
     "data": {
      "text/plain": [
       "2"
      ]
     },
     "execution_count": 37,
     "metadata": {},
     "output_type": "execute_result"
    }
   ],
   "source": [
    "125 + 25.21\n",
    "125 + 25\n",
    "125 * 25\n",
    "125 ** 25\n",
    "5 / 2       # normal division\n",
    "5 // 2      # floor division"
   ]
  },
  {
   "cell_type": "markdown",
   "metadata": {},
   "source": [
    "We very commonly need to go beyond built-in functions and operations. We can import the `math` module for this purpose:"
   ]
  },
  {
   "cell_type": "code",
   "execution_count": 38,
   "metadata": {},
   "outputs": [
    {
     "data": {
      "text/plain": [
       "0.7746914034386123"
      ]
     },
     "execution_count": 38,
     "metadata": {},
     "output_type": "execute_result"
    }
   ],
   "source": [
    "import math\n",
    "math.sqrt(math.pi)\n",
    "math.sin(math.sqrt(math.pi)/2)"
   ]
  },
  {
   "cell_type": "markdown",
   "metadata": {},
   "source": [
    "`random` is a very useful module when dealing with simple settings that require random sampling of a sequence of objects. "
   ]
  },
  {
   "cell_type": "code",
   "execution_count": 39,
   "metadata": {},
   "outputs": [
    {
     "data": {
      "text/plain": [
       "'Monday'"
      ]
     },
     "execution_count": 39,
     "metadata": {},
     "output_type": "execute_result"
    }
   ],
   "source": [
    "import random\n",
    "random.random()\n",
    "random.choice([10, 15, 20, 25, 30, 35, 40])\n",
    "random.choice([\"Monday\", \"Wednesday\", \"Friday\"])"
   ]
  },
  {
   "cell_type": "markdown",
   "metadata": {},
   "source": [
    "#### Boolean Operations \n",
    "* **Expression** is a combination of objects and operators that computes a value\n",
    "* Many expressions involve what is known as the Boolean data type\n",
    "* The Boolean data type is a data type that has only two values: true and false\n",
    "* In Python, the Boolean type is `bool`, and it has two values: `True`, `False`\n",
    "* Compare this to the `int` type which can represent any integer\n",
    "* Operations involving logic, so-called Boolean operations, take in one or more Boolean objects and return one Boolean object\n",
    "* There are only 3 Boolean operations (`x` and `y` are Boolean; listed here by ascending priority)"
   ]
  },
  {
   "cell_type": "code",
   "execution_count": 40,
   "metadata": {},
   "outputs": [
    {
     "data": {
      "text/plain": [
       "False"
      ]
     },
     "execution_count": 40,
     "metadata": {},
     "output_type": "execute_result"
    }
   ],
   "source": [
    "x or y\n",
    "\n",
    "x and y\n",
    "\n",
    "not x"
   ]
  },
  {
   "cell_type": "markdown",
   "metadata": {},
   "source": [
    "#### Comparisons \n",
    "\n",
    "* There are 8 comparison operations in Python\n",
    "* These are commonly used for numeric types\n",
    "* Can also be used for other types, like sequences, where comparisons are done element wise\n",
    "* The result of a comparison is either `True` or `False` (returns a Boolean type)\n",
    "* All have the same priority (higher than Boolean)\n",
    "* Here, `x` and `y` are any objects for which the comparison operators are defined. The last two compare object identity and its negation"
   ]
  },
  {
   "cell_type": "code",
   "execution_count": 41,
   "metadata": {
    "collapsed": true
   },
   "outputs": [
    {
     "ename": "SyntaxError",
     "evalue": "invalid syntax (<ipython-input-41-58f34c4ca123>, line 7)",
     "output_type": "error",
     "traceback": [
      "\u001b[0;36m  File \u001b[0;32m\"<ipython-input-41-58f34c4ca123>\"\u001b[0;36m, line \u001b[0;32m7\u001b[0m\n\u001b[0;31m    is\u001b[0m\n\u001b[0m     ^\u001b[0m\n\u001b[0;31mSyntaxError\u001b[0m\u001b[0;31m:\u001b[0m invalid syntax\n"
     ]
    }
   ],
   "source": [
    "x < y\n",
    "x <= y\n",
    "x > y\n",
    "x >= y\n",
    "x == y\n",
    "x != y\n",
    "is\n",
    "is not"
   ]
  },
  {
   "cell_type": "markdown",
   "metadata": {},
   "source": [
    "#### Sequences\n",
    "\n",
    "* In Python, a **sequence** is a collection of objects ordered by **position**\n",
    "* There are 3 basic sequence types: lists, tuples, and range objects\n",
    "* Additional sequence types exist for representing strings (text)\n",
    "* All sequences support **common sequence operations** and each sequence type has its **additional type specific operations**\n",
    "* These data types are called sequences because the objects they contain form a sequence\n",
    "* Indexing for sequences starts from zero (0)\n",
    "* Indexing logic: [from position, to position)\n"
   ]
  },
  {
   "cell_type": "markdown",
   "metadata": {},
   "source": [
    "#### Strings\n",
    "\n",
    "* Strings are **immutable** sequences of characters\n",
    "* String literals are enclosed in single (`'hi'`), double (`\"hi\"`), or triple quotes (`\"\"\"Computer says \"No.\"\"\"\"`)\n",
    "* Examples of common sequence operations on strings:"
   ]
  },
  {
   "cell_type": "code",
   "execution_count": 4,
   "metadata": {},
   "outputs": [
    {
     "name": "stdout",
     "output_type": "stream",
     "text": [
      "6\n",
      "P\n",
      "Python\n",
      "n\n"
     ]
    },
    {
     "data": {
      "text/plain": [
       "True"
      ]
     },
     "execution_count": 4,
     "metadata": {},
     "output_type": "execute_result"
    }
   ],
   "source": [
    "S = \"Python\"\n",
    "print(len(S)) # print the length of the string\n",
    "print(S[0])   # print the first character in the string\n",
    "print(S[0:6]) # slicing - print the 0 - 5 positions\n",
    "print(S[-1])  # print the last character in the string\n",
    "\"y\" in S      # membership\n",
    "\"z\" not in S"
   ]
  },
  {
   "cell_type": "markdown",
   "metadata": {},
   "source": [
    "* **Polymorphism** is the idea that the meaning of an operation, such as `+` and `*`, depends on the objects being operated on\n",
    "* This is like in math: each operation has to be defined separately for each type of object\n",
    "* Here, `+` is referred to as \"concatenation\" and `*` as \"repetition\""
   ]
  },
  {
   "cell_type": "code",
   "execution_count": 42,
   "metadata": {},
   "outputs": [
    {
     "name": "stdout",
     "output_type": "stream",
     "text": [
      "15\n",
      "PythonPythonPython\n",
      "8\n",
      "Python is phun\n",
      "eight is 8\n"
     ]
    }
   ],
   "source": [
    "S = \"Python\"\n",
    "print(3*5)\n",
    "print(3*S)\n",
    "print(3 + 5)\n",
    "print(S + ' is phun')\n",
    "#print(\"eight is \" + 8)     # string object + integer object (!) \n",
    "                            # This creates an error since strings and integers are different types\n",
    "print(\"eight is \" + str(8)) # string object + string object"
   ]
  },
  {
   "cell_type": "markdown",
   "metadata": {},
   "source": [
    "The above operations on strings were really generic sequence operations. Strings are a type of sequence and support all sequence operations. In addition, strings have operations all their own, which are available as **string methods**. Methods are functions attached to objects and they are triggered with a call expression."
   ]
  },
  {
   "cell_type": "code",
   "execution_count": 43,
   "metadata": {},
   "outputs": [
    {
     "data": {
      "text/plain": [
       "1"
      ]
     },
     "execution_count": 43,
     "metadata": {},
     "output_type": "execute_result"
    }
   ],
   "source": [
    "S = 'Python'\n",
    "S.find('y')"
   ]
  },
  {
   "cell_type": "code",
   "execution_count": 44,
   "metadata": {},
   "outputs": [
    {
     "data": {
      "text/plain": [
       "'PYthon'"
      ]
     },
     "execution_count": 44,
     "metadata": {},
     "output_type": "execute_result"
    }
   ],
   "source": [
    "S.replace('y', 'Y')"
   ]
  },
  {
   "cell_type": "code",
   "execution_count": 45,
   "metadata": {},
   "outputs": [
    {
     "name": "stdout",
     "output_type": "stream",
     "text": [
      "Amy Poehler\n"
     ]
    }
   ],
   "source": [
    "name = \"Amy Poehler\"\n",
    "name.split(' ')\n",
    "print(name)"
   ]
  },
  {
   "cell_type": "code",
   "execution_count": 46,
   "metadata": {},
   "outputs": [
    {
     "data": {
      "text/plain": [
       "'AMY POEHLER'"
      ]
     },
     "execution_count": 46,
     "metadata": {},
     "output_type": "execute_result"
    }
   ],
   "source": [
    "name.upper()"
   ]
  },
  {
   "cell_type": "code",
   "execution_count": 47,
   "metadata": {},
   "outputs": [
    {
     "data": {
      "text/plain": [
       "'amy poehler'"
      ]
     },
     "execution_count": 47,
     "metadata": {},
     "output_type": "execute_result"
    }
   ],
   "source": [
    "name.lower()"
   ]
  },
  {
   "cell_type": "markdown",
   "metadata": {},
   "source": [
    "#### Lists \n",
    "\n",
    "* Lists are **mutable** sequences of objects of any type typically used to store homogeneous items\n",
    "* Lists are a type of sequence\n",
    "* Strings vs. lists: Sequences of characters vs. sequences of any objects\n",
    "* Strings vs. lists: Strings are immutable whereas lists are mutable\n",
    "* It is common in practice for lists to hold objects of one type only (which may consist of many kinds of nested objects)"
   ]
  },
  {
   "cell_type": "code",
   "execution_count": 48,
   "metadata": {},
   "outputs": [
    {
     "data": {
      "text/plain": [
       "['Peter', 'John', 'Mary', 'Tom', 'Jim']"
      ]
     },
     "execution_count": 48,
     "metadata": {},
     "output_type": "execute_result"
    }
   ],
   "source": [
    "names = [\"Peter\", \"John\", \"Mary\"]\n",
    "names[0]\n",
    "names[1]\n",
    "names.append(\"Tom\")\n",
    "names = names + [\"Jim\"]\n",
    "names"
   ]
  },
  {
   "cell_type": "code",
   "execution_count": 49,
   "metadata": {},
   "outputs": [
    {
     "data": {
      "text/plain": [
       "'Peter'"
      ]
     },
     "execution_count": 49,
     "metadata": {},
     "output_type": "execute_result"
    }
   ],
   "source": [
    "import random\n",
    "random.choice(names) "
   ]
  },
  {
   "cell_type": "code",
   "execution_count": 50,
   "metadata": {},
   "outputs": [],
   "source": [
    "names.reverse() # reverses the list in place (common mutable sequence operation)\n",
    "names.sort()    # sorts the list i place (list method)"
   ]
  },
  {
   "cell_type": "markdown",
   "metadata": {},
   "source": [
    "**NOTE:** Because lists are mutable, the above method calls actually *modify the original list*. Because strings are immutable, they cannot modify the string itself, so many methods return a new string. Therefore, with strings, if you want to store the result, you need to assign it to a variable."
   ]
  },
  {
   "cell_type": "markdown",
   "metadata": {},
   "source": [
    "#### Tuples \n",
    "\n",
    "* Tuples are **immutable** sequences typically used to store heterogeneous data\n",
    "* Tuples are best viewed as a single object consisting of several parts\n",
    "* You can use a tuple to return multiple values from a function (coming up)\n",
    "* Although tuples and lists can often be used to perform similar tasks, creating short lists wastes memory because Python optimizes the performance of certain methods (such as `append()`) by slightly over-allocating memory"
   ]
  },
  {
   "cell_type": "code",
   "execution_count": 51,
   "metadata": {
    "collapsed": true
   },
   "outputs": [
    {
     "ename": "TypeError",
     "evalue": "'tuple' object does not support item assignment",
     "output_type": "error",
     "traceback": [
      "\u001b[0;31m---------------------------------------------------------------------------\u001b[0m",
      "\u001b[0;31mTypeError\u001b[0m                                 Traceback (most recent call last)",
      "\u001b[0;32m<ipython-input-51-6782351fd25e>\u001b[0m in \u001b[0;36m<module>\u001b[0;34m()\u001b[0m\n\u001b[1;32m      3\u001b[0m \u001b[0mT\u001b[0m \u001b[0;34m+\u001b[0m \u001b[0;34m(\u001b[0m\u001b[0;36m5\u001b[0m\u001b[0;34m,\u001b[0m\u001b[0;36m6\u001b[0m\u001b[0;34m)\u001b[0m             \u001b[0;31m# concatenation\u001b[0m\u001b[0;34m\u001b[0m\u001b[0m\n\u001b[1;32m      4\u001b[0m \u001b[0mT\u001b[0m\u001b[0;34m[\u001b[0m\u001b[0;36m0\u001b[0m\u001b[0;34m]\u001b[0m\u001b[0;34m\u001b[0m\u001b[0m\n\u001b[0;32m----> 5\u001b[0;31m \u001b[0mT\u001b[0m\u001b[0;34m[\u001b[0m\u001b[0;36m1\u001b[0m\u001b[0;34m]\u001b[0m \u001b[0;34m=\u001b[0m \u001b[0;36m20\u001b[0m             \u001b[0;31m# immutable (!)\u001b[0m\u001b[0;34m\u001b[0m\u001b[0m\n\u001b[0m\u001b[1;32m      6\u001b[0m \u001b[0mx\u001b[0m \u001b[0;34m=\u001b[0m \u001b[0;36m12.3\u001b[0m\u001b[0;34m;\u001b[0m \u001b[0my\u001b[0m \u001b[0;34m=\u001b[0m \u001b[0;36m22.5\u001b[0m\u001b[0;34m\u001b[0m\u001b[0m\n\u001b[1;32m      7\u001b[0m \u001b[0mcoordinates\u001b[0m \u001b[0;34m=\u001b[0m \u001b[0;34m(\u001b[0m\u001b[0mx\u001b[0m\u001b[0;34m,\u001b[0m\u001b[0my\u001b[0m\u001b[0;34m)\u001b[0m   \u001b[0;31m# tuple packing\u001b[0m\u001b[0;34m\u001b[0m\u001b[0m\n",
      "\u001b[0;31mTypeError\u001b[0m: 'tuple' object does not support item assignment"
     ]
    }
   ],
   "source": [
    "T = (1,2,3,4)\n",
    "len(T)\n",
    "T + (5,6)             # concatenation\n",
    "T[0]\n",
    "T[1] = 20             # immutable (!)\n",
    "x = 12.3; y = 22.5\n",
    "coordinates = (x,y)   # tuple packing\n",
    "(x, y) = coordinates  # tuple unpacking\n",
    "x, y = coordinates    # tuple unpacking\n",
    "coordinates = [(x,x**2) for x in range(10)]\n",
    "for x, y in coordinates:\n",
    "    print(x,y)"
   ]
  },
  {
   "cell_type": "markdown",
   "metadata": {},
   "source": [
    "#### Ranges \n",
    "\n",
    "* Ranges are **immutable** sequences of integers commonly used in `for` loops\n",
    "* Can use negative steps but cannot use non-integer steps\n",
    "* Note that `range` objects are different from `list` objects\n",
    "* Although could use a list in `for` loops, `range` is much more memory efficient as it stores only start, stop, and step values, calculating individual items as needed"
   ]
  },
  {
   "cell_type": "code",
   "execution_count": 52,
   "metadata": {},
   "outputs": [
    {
     "data": {
      "text/plain": [
       "[0, 2, 4, 6, 8, 10]"
      ]
     },
     "execution_count": 52,
     "metadata": {},
     "output_type": "execute_result"
    }
   ],
   "source": [
    "list(range(5))      # stop\n",
    "list(range(1,6))    # start, stop\n",
    "list(range(0,11,2)) # start, stop, step"
   ]
  },
  {
   "cell_type": "markdown",
   "metadata": {},
   "source": [
    "#### Sets \n",
    "\n",
    "* Sets are unordered collections of distinct objects\n",
    "* There are two types of sets: `set` is **mutable** whereas `frozenset` is **immutable**\n",
    "* A set is an unordered collection of objects and it *cannot be indexed*\n",
    "* The elements of a set are never duplicated, i.e., adding the same element again to a set has no effect (compared to `list.append()`)\n",
    "* Useful for keeping track of distinct objects and for doing mathematical set operations (union, intersection, set difference)\n",
    "* Sets come with non-mutating and mutating methods, where the mutating methods can be called only on instances of type `set`\n"
   ]
  },
  {
   "cell_type": "code",
   "execution_count": 53,
   "metadata": {},
   "outputs": [
    {
     "name": "stdout",
     "output_type": "stream",
     "text": [
      "{6, 8, 10, 12, 14}\n"
     ]
    },
    {
     "data": {
      "text/plain": [
       "False"
      ]
     },
     "execution_count": 53,
     "metadata": {},
     "output_type": "execute_result"
    }
   ],
   "source": [
    "nodes = set()         # empty set\n",
    "nodes = set([2,4,6,8,10,12])\n",
    "nodes.add(14)\n",
    "nodes.add(6)          # adding a single item at a time \n",
    "nodes.update([6,14])  # item adding multiple items at a time\n",
    "nodes.pop()           # remove and return an arbitrary element\n",
    "nodes.remove(4)       # remove a specified element\n",
    "females = set([2,6,8])\n",
    "males = nodes.difference(females)\n",
    "print(nodes)          # difference is a nonmutating method\n",
    "2 in males            # testing set membership"
   ]
  },
  {
   "cell_type": "markdown",
   "metadata": {},
   "source": [
    "#### Dictionaries \n",
    "\n",
    "* Dictionaries are mappings from key objects to value objects\n",
    "* Consist of key-value pairs, where keys must be immutable and the values can be anything\n",
    "* Dictionaries themselves are mutable, and can be seen as associative arrays\n",
    "* Dictionaries can be used for performing fast lookups on unordered data\n",
    "* Note that dictionaries are not sequences, and therefore do not maintain any type of left-to-right order, i.e., keys and values are iterated over in an arbitrary order"
   ]
  },
  {
   "cell_type": "code",
   "execution_count": 54,
   "metadata": {},
   "outputs": [],
   "source": [
    "md = {}      # create an empty dictionary\n",
    "md = dict()  # create an empty dictionary\n",
    "age = {'Tim': 29, 'Jim': 31, 'Pam': 27, 'Sam': 35} # create a dictionary named age\n",
    "age['Tim']                                         # names are keys and numbers are values\n",
    "age['Tim'] = age['Tim'] + 1\n",
    "age['Tim'] += 1\n",
    "age['Tom'] = 45"
   ]
  },
  {
   "cell_type": "code",
   "execution_count": 55,
   "metadata": {},
   "outputs": [
    {
     "data": {
      "text/plain": [
       "dict_keys(['Tim', 'Jim', 'Pam', 'Sam', 'Tom'])"
      ]
     },
     "execution_count": 55,
     "metadata": {},
     "output_type": "execute_result"
    }
   ],
   "source": [
    "# To get a new view of the dictionary's keys\n",
    "age.keys()\n"
   ]
  },
  {
   "cell_type": "code",
   "execution_count": 56,
   "metadata": {},
   "outputs": [
    {
     "data": {
      "text/plain": [
       "dict_values([31, 31, 27, 35, 45])"
      ]
     },
     "execution_count": 56,
     "metadata": {},
     "output_type": "execute_result"
    }
   ],
   "source": [
    "# To get a new view of the dictionary's values\n",
    "\n",
    "age.values()"
   ]
  },
  {
   "cell_type": "markdown",
   "metadata": {},
   "source": [
    "### Python Compound Statements\n",
    "\n",
    "* Compound statements contain (groups of) other statements and they affect or control the execution of those other statements in some way\n",
    "* Compound statements typically span multiple lines\n",
    "* A compound statement consists of one or more **clauses** where a clause consists of a header and a block or suite of code\n",
    "* The clause headers of a particular compound statement start with a keyword, end with a colon, and are **all at the same indentation level**\n",
    "* A block or suite of code of each clause however must be indented to indicate that it forms a group of statements that logically fall under the header\n",
    "* There are no hard-and-fast rules about indentation as long as you are consistent\n",
    "* Tab and 4 spaces are probably the most common choices\n",
    "* Here's an example of a compound statement with 1 clause (1 header line + 2 lines of code in the block)"
   ]
  },
  {
   "cell_type": "code",
   "execution_count": 57,
   "metadata": {},
   "outputs": [
    {
     "name": "stdout",
     "output_type": "stream",
     "text": [
      "x is greater than y\n",
      "But this gets printed no matter what!\n"
     ]
    }
   ],
   "source": [
    "x = 3\n",
    "y = 1\n",
    "\n",
    "if x > y:\n",
    "    difference = x - y\n",
    "    print(\"x is greater than y\")\n",
    "    \n",
    "print(\"But this gets printed no matter what!\")"
   ]
  },
  {
   "cell_type": "markdown",
   "metadata": {},
   "source": [
    "#### The Python `if` statement:\n",
    "\n",
    "if test:\n",
    "    (block of code)\n",
    "elif test:\n",
    "    (block of code)\n",
    "else:\n",
    "    (block of code)\n",
    "\n",
    "* The `if` statement selects from among one or more actions, and it runs the block associated with the first `if` or `elif` test that is true, or the `else` suite if all are false\n",
    "* This example computes the absolute value of a difference, i.e., the distance between the numbers `x` and `y`\n",
    "* Python has the built-in `abs` function for this purpose, so this is just a pedagogical example"
   ]
  },
  {
   "cell_type": "code",
   "execution_count": 58,
   "metadata": {},
   "outputs": [],
   "source": [
    "if x > y:\n",
    "    absval = x - y\n",
    "elif y > x:\n",
    "    absval = y - x\n",
    "else:\n",
    "    absval = 0"
   ]
  },
  {
   "cell_type": "markdown",
   "metadata": {},
   "source": [
    "#### The Python `for` statement:\n",
    "\n",
    "for target in sequence:\n",
    "    (block of code)\n",
    "    \n",
    "* The `for` loop is a sequence iteration that assigns items in sequence to targets one at a time and runs the block of code for each item\n",
    "* Unless the loop is terminated early with the `break` statement, the block of code is run as many times as there are items in the sequence\n"
   ]
  },
  {
   "cell_type": "code",
   "execution_count": 60,
   "metadata": {},
   "outputs": [
    {
     "name": "stdout",
     "output_type": "stream",
     "text": [
      "Peter\n",
      "John\n",
      "Mary\n",
      "Helen\n",
      "Tom\n",
      "Nicholas\n",
      "0\n",
      "1\n",
      "2\n",
      "3\n",
      "4\n",
      "5\n",
      "6\n",
      "7\n",
      "8\n",
      "9\n",
      "10\n",
      "0\n",
      "1\n",
      "2\n",
      "3\n",
      "4\n",
      "5\n",
      "6\n",
      "7\n",
      "8\n",
      "9\n",
      "10\n"
     ]
    }
   ],
   "source": [
    "names = ['Peter', 'John', 'Mary', 'Helen', 'Tom', 'Nicholas'] \n",
    "for name in names:\n",
    "    print(name)\n",
    "    \n",
    "for x in [0,1,2,3,4,5,6,7,8,9,10]:\n",
    "    print(x)\n",
    "    \n",
    "for x in range(11):\n",
    "    print(x)"
   ]
  },
  {
   "cell_type": "markdown",
   "metadata": {},
   "source": [
    "A common operation is to take an existing list, apply some operation to all of the items of the list, and create a new list containing the results. In Python, there is an operator for this task known as a **list comprehension**. Consider the following approach to computing squares of a list of numbers:"
   ]
  },
  {
   "cell_type": "code",
   "execution_count": 61,
   "metadata": {},
   "outputs": [],
   "source": [
    "numbers = [0, 1, 2, 3, 4, 5, 6, 7, 8, 9, 10]\n",
    "squares = []\n",
    "for n in numbers:\n",
    "    squares.append(n*n)"
   ]
  },
  {
   "cell_type": "markdown",
   "metadata": {},
   "source": [
    "This can be easily implemented as a list comprehension:"
   ]
  },
  {
   "cell_type": "code",
   "execution_count": 62,
   "metadata": {},
   "outputs": [],
   "source": [
    "numbers = [0, 1, 2, 3, 4, 5, 6, 7, 8, 9, 10]\n",
    "squares = [n*n for n in numbers]"
   ]
  },
  {
   "cell_type": "markdown",
   "metadata": {},
   "source": [
    "If we just care about the squares, we can do the following:"
   ]
  },
  {
   "cell_type": "code",
   "execution_count": 64,
   "metadata": {},
   "outputs": [],
   "source": [
    "squares = [n*n for n in range(0,11)]"
   ]
  },
  {
   "cell_type": "markdown",
   "metadata": {},
   "source": [
    "#### Python `for` Statement and Handling Files\n",
    "\n",
    "* We commonly want to read data from a file or write data to a file\n",
    "* The syntax for reading a file line-by-line:"
   ]
  },
  {
   "cell_type": "code",
   "execution_count": null,
   "metadata": {},
   "outputs": [],
   "source": [
    "for line in open('input.txt'):\n",
    "    line = line.rstrip()\n",
    "    line = line.split(',')"
   ]
  },
  {
   "cell_type": "markdown",
   "metadata": {},
   "source": [
    "Or more economically:"
   ]
  },
  {
   "cell_type": "code",
   "execution_count": null,
   "metadata": {},
   "outputs": [],
   "source": [
    "for line in open('input.txt'):\n",
    "    line = line.rstrip().split(',')"
   ]
  },
  {
   "cell_type": "markdown",
   "metadata": {},
   "source": [
    "* Writing a file line-by-line:"
   ]
  },
  {
   "cell_type": "code",
   "execution_count": null,
   "metadata": {},
   "outputs": [],
   "source": [
    "F = open('output.txt', 'w')\n",
    "F.write('Hello there! \\n')    # need the newline character here (\\n)\n",
    "F.close()"
   ]
  },
  {
   "cell_type": "markdown",
   "metadata": {},
   "source": [
    "#### The Python `while` is used for repeated execution as long as an expression is true:\n",
    "\n",
    "while expression:\n",
    "    (block of code)\n",
    "else:\n",
    "    (block of code)\n",
    "\n",
    "* The while loop repeatedly tests the expression\n",
    "* If the expression is true, it executes the first block of code\n",
    "* If the expression is false, it executes the second block of code, if present, and terminates the loop\n",
    "* Use of `for` and `while` depends on whether looping over a known sequence or whether looping while some condition is true\n"
   ]
  },
  {
   "cell_type": "markdown",
   "metadata": {},
   "source": [
    "### Python Functions\n",
    "\n",
    "* Functions are devices for grouping statements so that they can be easily run more than once in a program\n",
    "* Functions maximize code reuse and minimize code redundancy\n",
    "* Functions enable dividing larger tasks into smaller chunks (procedural decomposition)\n",
    "* Functions are written using the `def` statement\n",
    "* The `return` statement sends the result object back to the caller"
   ]
  },
  {
   "cell_type": "code",
   "execution_count": 66,
   "metadata": {},
   "outputs": [
    {
     "data": {
      "text/plain": [
       "5"
      ]
     },
     "execution_count": 66,
     "metadata": {},
     "output_type": "execute_result"
    }
   ],
   "source": [
    "def add(a,b):\n",
    "    result = a + b    \n",
    "    return result\n",
    "\n",
    "my_sum = add(2,3)\n",
    "my_sum"
   ]
  },
  {
   "cell_type": "markdown",
   "metadata": {},
   "source": [
    "* All names assigned in a function are local to that function and exist only while the function runs (unless using the `global` statement)\n",
    "* Arguments are matched by position\n",
    "* Use `tuples` to return multiple values from a function:"
   ]
  },
  {
   "cell_type": "code",
   "execution_count": 67,
   "metadata": {},
   "outputs": [
    {
     "name": "stdout",
     "output_type": "stream",
     "text": [
      "23 -13\n"
     ]
    }
   ],
   "source": [
    "def add_and_subtract(a,b):\n",
    "    sm = a + b\n",
    "    df = a - b    \n",
    "    return (sm, df)       # parenthesis are optional here\n",
    "\n",
    "my_sum, my_diff = add_and_subtract(5, 18)\n",
    "print(my_sum, my_diff)"
   ]
  },
  {
   "cell_type": "markdown",
   "metadata": {},
   "source": [
    "* Functions do not exist until Python reaches and runs the `def` statement\n",
    "* A function is not executed until the given function is called using the `function()` syntax\n",
    "* The `def` statement creates an object and assigns it to a name\n",
    "* Let's look at a slightly more complex example\n",
    "* This function returns the intersection of two sequences:"
   ]
  },
  {
   "cell_type": "code",
   "execution_count": 68,
   "metadata": {},
   "outputs": [
    {
     "data": {
      "text/plain": [
       "[3, 5]"
      ]
     },
     "execution_count": 68,
     "metadata": {},
     "output_type": "execute_result"
    }
   ],
   "source": [
    "def intersect(seq1,seq2):\n",
    "    res = []\n",
    "    for x in seq1:\n",
    "        if x in seq2:\n",
    "            res.append(x)\n",
    "    return res\n",
    " \n",
    "A = [1,3,5,7,9]\n",
    "B = [2,3,4,5,6]\n",
    "C = intersect(A,B)\n",
    "C"
   ]
  },
  {
   "cell_type": "markdown",
   "metadata": {},
   "source": [
    "### Understanding Common Errors\n",
    "\n",
    "* Not reading and/or understanding common error messages\n",
    "* Not understanding basic built-in types (e.g., dictionaries have no internal ordering)\n",
    "* Trying to do an operation that is not supported by the object\n",
    "* Accessing the object in a wrong way (e.g., key vs. index)\n",
    "* Trying to modify immutable objects\n",
    "* Not understanding nested objects\n",
    "* Not knowing the type of an object\n",
    "* Trying to operate on two objects of different type (e.g., trying to concatenate a string and a number)\n",
    "* **Incorrect Indexing:** remember that indexing starts at 0 in Python, rather than 1, like in R\n"
   ]
  }
 ],
 "metadata": {
  "kernelspec": {
   "display_name": "Python 3",
   "language": "python",
   "name": "python3"
  },
  "language_info": {
   "codemirror_mode": {
    "name": "ipython",
    "version": 3
   },
   "file_extension": ".py",
   "mimetype": "text/x-python",
   "name": "python",
   "nbconvert_exporter": "python",
   "pygments_lexer": "ipython3",
   "version": "3.6.4"
  }
 },
 "nbformat": 4,
 "nbformat_minor": 2
}
