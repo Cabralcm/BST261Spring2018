{
 "cells": [
  {
   "cell_type": "markdown",
   "metadata": {},
   "source": [
    "# Tensors\n",
    "In general, all current machine-learning systems use tensors as their basic data structure. Tensors are containers for numbers and a generalization of matrices to an arbitrary number of dimensions (or axes). "
   ]
  },
  {
   "cell_type": "markdown",
   "metadata": {},
   "source": [
    "### Scalars (0D tensors)\n",
    "A tensor that contains only one number is a scalar tensor, or 0-dimensional tensor, or 0D tensor. "
   ]
  },
  {
   "cell_type": "code",
   "execution_count": 1,
   "metadata": {},
   "outputs": [
    {
     "data": {
      "text/plain": [
       "0"
      ]
     },
     "execution_count": 1,
     "metadata": {},
     "output_type": "execute_result"
    }
   ],
   "source": [
    "import numpy as np\n",
    "x = np.array(9)\n",
    "x.ndim"
   ]
  },
  {
   "cell_type": "markdown",
   "metadata": {},
   "source": [
    "### Vectors (1D tensors)\n",
    "A list or array of numbers is called a vector, or 1D tensor."
   ]
  },
  {
   "cell_type": "code",
   "execution_count": 2,
   "metadata": {},
   "outputs": [
    {
     "data": {
      "text/plain": [
       "1"
      ]
     },
     "execution_count": 2,
     "metadata": {},
     "output_type": "execute_result"
    }
   ],
   "source": [
    "x = np.array([1, 2, 3, 4])\n",
    "x.ndim"
   ]
  },
  {
   "cell_type": "markdown",
   "metadata": {},
   "source": [
    "Note: the vector above has 4 entries and is sometimes called a 4-dimensional *vector*. Don't confuse this with a 4D tensor."
   ]
  },
  {
   "cell_type": "markdown",
   "metadata": {},
   "source": [
    "### Matrices (2D tensors)\n",
    "An array of vectors is a matrix, or 2D tensor. The entries from the first axis are called rows and the entries from the second axis are called columns. In the following example, `[1, 2, 3, 4, 5]` is the first row and `[1, 6, 11]` is the first column."
   ]
  },
  {
   "cell_type": "code",
   "execution_count": 4,
   "metadata": {},
   "outputs": [
    {
     "data": {
      "text/plain": [
       "2"
      ]
     },
     "execution_count": 4,
     "metadata": {},
     "output_type": "execute_result"
    }
   ],
   "source": [
    "x = np.array([[1, 2, 3, 4, 5],\n",
    "             [6, 7, 8, 9, 10],\n",
    "             [11, 12, 13, 14, 15]])\n",
    "x.ndim"
   ]
  },
  {
   "cell_type": "markdown",
   "metadata": {},
   "source": [
    "### 3D tensors and higher-dimensional tensors\n",
    "If you pack multiple matrices into a new array, you obtain a 3D tensor, which you can visually interpret as a cube of numbers. An example is below. By packing 3D tensors into an array you can create a 4D tensor, and so on. In general, deep learning only involves 0D to 4D tensors, although video data requires 5D. "
   ]
  },
  {
   "cell_type": "code",
   "execution_count": 9,
   "metadata": {},
   "outputs": [
    {
     "data": {
      "text/plain": [
       "3"
      ]
     },
     "execution_count": 9,
     "metadata": {},
     "output_type": "execute_result"
    }
   ],
   "source": [
    "x = np.array([[[1, 2, 3, 4, 5],\n",
    "             [6, 7, 8, 9, 10],\n",
    "             [11, 12, 13, 14, 15]],\n",
    "             [[1, 2, 3, 4, 5],\n",
    "             [6, 7, 8, 9, 10],\n",
    "             [11, 12, 13, 14, 15]],\n",
    "             [[1, 2, 3, 4, 5],\n",
    "             [6, 7, 8, 9, 10],\n",
    "             [11, 12, 13, 14, 15]]])\n",
    "x.ndim"
   ]
  },
  {
   "cell_type": "markdown",
   "metadata": {},
   "source": [
    "## Key attributes\n",
    "* **Number of axes** (rank) - `ndim` in python.  \n",
    "\n",
    "\n",
    "* **Shape** - A tuple of integers that describes how many dimensions the tensor has along each axis. In the previous example, the tensor has shape `(3, 3, 5)`. There are 3 matrices, each with 3 rows and 5 columns. Note that a vector has shape `(n, )` where `n` is the length of the vector, whereas a scalar has an empty shape, `()`.  \n",
    "\n",
    "\n",
    "* **Data type** - `dtype` in python. This is the type of the data contained in the tensor. For example, a tensor's type could be `float32`, `uint8`, `float64` and so on. Note that string tensors don't exist in Numpy (or in most other libraries)."
   ]
  },
  {
   "cell_type": "markdown",
   "metadata": {},
   "source": [
    "## Example - MNIST Data\n",
    "The MNIST database (Modified National Institute of Standards and Technology database) is a large database of handwritten digits that is commonly used for training various image processing systems. Let's play around with it."
   ]
  },
  {
   "cell_type": "code",
   "execution_count": 2,
   "metadata": {},
   "outputs": [
    {
     "name": "stdout",
     "output_type": "stream",
     "text": [
      "3\n",
      "(60000, 28, 28)\n",
      "uint8\n"
     ]
    }
   ],
   "source": [
    "# Load the data set\n",
    "import keras\n",
    "from keras.datasets import mnist\n",
    "\n",
    "(train_images, train_labels), (test_images, test_labels) = mnist.load_data()\n",
    "\n",
    "print(train_images.ndim)  # Number of axes or dimensions\n",
    "print(train_images.shape) # Tensor Shape\n",
    "print(train_images.dtype) # Data type"
   ]
  },
  {
   "cell_type": "markdown",
   "metadata": {},
   "source": [
    "We have a 3D tensor of 60,000 matrices 0f 28 x 28 integers. Each matrix is a greyscale image with coefficients between 0 and 255. Let's look at a specific digit. "
   ]
  },
  {
   "cell_type": "code",
   "execution_count": 5,
   "metadata": {},
   "outputs": [
    {
     "data": {
      "image/png": "[encoded data removed]",
      "text/plain": [
       "<matplotlib.figure.Figure at 0x7f27be2c8550>"
      ]
     },
     "metadata": {},
     "output_type": "display_data"
    }
   ],
   "source": [
    "digit = train_images[5] # Display the 5th digit\n",
    "\n",
    "import matplotlib.pyplot as plt\n",
    "plt.imshow(digit, cmap = plt.cm.binary)\n",
    "plt.show()"
   ]
  },
  {
   "cell_type": "markdown",
   "metadata": {},
   "source": [
    "By selecting a specific digit, we are selecting a specific element in a tensor, which is known as ***tensor slicing***. The following code shows 3 different ways of selecting digits \\#10 to \\#100, each giving you the same object. The commas inside the brackets separate the different axes. In general, the first axis (axis 0 because indexing starts at 0 in python) will be the samples axis (sometimes called the samples dimension). In the MNIST data set, samples are images of digits. Including a `:` means use all elements in this axis."
   ]
  },
  {
   "cell_type": "code",
   "execution_count": 6,
   "metadata": {},
   "outputs": [
    {
     "name": "stdout",
     "output_type": "stream",
     "text": [
      "(90, 28, 28)\n",
      "(90, 28, 28)\n",
      "(90, 28, 28)\n"
     ]
    }
   ],
   "source": [
    "my_slice = train_images[10:100]\n",
    "print(my_slice.shape)\n",
    "\n",
    "my_slice = train_images[10:100, :, :]       # Equivalent to the previous example\n",
    "print(my_slice.shape)\n",
    "\n",
    "my_slice = train_images[10:100, 0:28, 0:28] # Also equivalent to the previous example\n",
    "print(my_slice.shape)"
   ]
  },
  {
   "cell_type": "markdown",
   "metadata": {},
   "source": [
    "## Data Batches\n",
    "Deep-learning models don't process an entire data set at once - they break the data into small ***batches***. For example, here's once batch of MNIST digits with batch size 200:"
   ]
  },
  {
   "cell_type": "code",
   "execution_count": 7,
   "metadata": {},
   "outputs": [],
   "source": [
    "batch = train_images[:200]"
   ]
  },
  {
   "cell_type": "markdown",
   "metadata": {},
   "source": [
    "## Other tensor examples\n",
    "\n",
    "* **Vector data** - 2D tensors of shape `(samples, features)`.\n",
    "\n",
    "\n",
    "* **Time series or sequence data** - 3D tensors of shape `(samples, timesteps, features)`.\n",
    "\n",
    "\n",
    "* **Images** - 4D tensors of shape `(samples, height, width, channels)`, or `(samples, channels, height, width)`. Note that channels refer to color depth. Grey scale images (like the MNIST data set) have a color depth of 1, whereas color images have a color depth of 3 (RGB). Also, *TensorFlow* uses the *channels-last* convention - `(samples, height, width, channels)`, while *Theano* uses the *channels-first conventions* - `(samples, channels, height, width)`. Keras provides support for both formats.\n",
    "\n",
    "\n",
    "* **Video** - 5D tensors of shape `(samples, frames, height, width, channels)` or `(samples, frames, channels, height, width)`. Think of this data as a sequence of images, which here are referred to as frames. "
   ]
  },
  {
   "cell_type": "markdown",
   "metadata": {},
   "source": [
    "## Tensor Operations\n",
    "### Element-wise operations\n",
    "Element-wise operations are operations that are applied independently to each entry in the tensors being considered. The slow way of performing these operations would be with a for loop. In python, these useful operations are well-optimized built-in Numpy functions, which themselves delegate the heavy lifting to a Basic Linear Algebra Subprograms (BLAS) implementation. BLAS are low-level, highly parallel, efficient tensor-manipulation routines that are typically implemented in Fortran or C.  "
   ]
  },
  {
   "cell_type": "markdown",
   "metadata": {},
   "source": [
    "### Broadcasting\n",
    "Broadcasting allows element-wise operations between two tensors with different shapes (when possible). The smaller tensor will be *broadcasted* to match the shape of the larger tensor. This happens in 2 steps:\n",
    "\n",
    "1. Axes (called *broadcast axes* are added to the smaller tensor to match the `ndim` of the larger tensor.\n",
    "2. The smaller tensor is repeated alongside these new axes to match the full shape of the larger tensor.\n",
    "\n",
    "As an example, consider `X` with shape `(32,10` and `y` with shape `(10,)`. First, we add an empty first axis to `y`, whose shape becomes `(1, 10)`. Then, we repeat `y` 32 times alongside this new axis, so that we end up with a tensor `Y` with shape `(32, 10)` where `Y[i, :] == y` for `i` in `range(0,32)`. Now we can easily perform different operations, like addition, to `X` and `Y`.\n",
    "\n",
    "Python does this automatically at the algorithmic level and not at the memory level. For example:"
   ]
  },
  {
   "cell_type": "code",
   "execution_count": 9,
   "metadata": {},
   "outputs": [],
   "source": [
    "import numpy as np\n",
    "\n",
    "X = np.random.random((64, 3, 32, 10))  # A random tensor with shape (64, 3, 32, 10)\n",
    "y = np.random.random((32, 10))         # A random tensor with shape (32, 10)\n",
    "\n",
    "Z = np.maximum(X, y)  # The ouput Z has shape (64, 3, 32, 10) like X"
   ]
  },
  {
   "cell_type": "markdown",
   "metadata": {},
   "source": [
    "### Tensor Dot\n",
    "\n",
    "The dot operation, or *tensor product* is the most common and morst useful tensor operation. Don't confuse it with an element-wise product - it combines entries in the input vectors. In python, the `dot` operator is used: `z = np.dot(x,y)`. Note that for matrices, you can only take the dot product if `x.shape[1] == y.shape[0]`. The result is a matrix with shape `x.shape[0] == y.shape[1]`."
   ]
  },
  {
   "cell_type": "markdown",
   "metadata": {},
   "source": [
    "### Tensor Reshaping\n",
    "\n",
    "Reshaping a tensor means rearranging its rows and columns to match a target shape. For example:"
   ]
  },
  {
   "cell_type": "code",
   "execution_count": 14,
   "metadata": {},
   "outputs": [
    {
     "name": "stdout",
     "output_type": "stream",
     "text": [
      "(3, 2)\n"
     ]
    }
   ],
   "source": [
    "x = np.array([[0., 1.],\n",
    "              [2., 3.],\n",
    "              [4., 5.]])\n",
    "print(x.shape)"
   ]
  },
  {
   "cell_type": "code",
   "execution_count": 15,
   "metadata": {},
   "outputs": [
    {
     "name": "stdout",
     "output_type": "stream",
     "text": [
      "[[0.]\n",
      " [1.]\n",
      " [2.]\n",
      " [3.]\n",
      " [4.]\n",
      " [5.]]\n"
     ]
    }
   ],
   "source": [
    "x = x.reshape((6, 1))\n",
    "print(x)"
   ]
  },
  {
   "cell_type": "code",
   "execution_count": 16,
   "metadata": {},
   "outputs": [
    {
     "name": "stdout",
     "output_type": "stream",
     "text": [
      "[[0. 1. 2.]\n",
      " [3. 4. 5.]]\n"
     ]
    }
   ],
   "source": [
    "x = x.reshape((2, 3))\n",
    "print(x)"
   ]
  },
  {
   "cell_type": "markdown",
   "metadata": {},
   "source": [
    "A special case of reshaping that is commonly used is *transposition*. Transposing a matrix means exchanging its rows and columns, so that `x[i, :]` becomes `x[:, i]`:"
   ]
  },
  {
   "cell_type": "code",
   "execution_count": null,
   "metadata": {},
   "outputs": [],
   "source": [
    "x = np.zeros((300, 20))  # Creates an all-zeros matrix of shape (300,20)\n",
    "x = np.transpose(x)\n",
    "print(x.shape)"
   ]
  }
 ],
 "metadata": {
  "kernelspec": {
   "display_name": "Python 3",
   "language": "python",
   "name": "python3"
  },
  "language_info": {
   "codemirror_mode": {
    "name": "ipython",
    "version": 3
   },
   "file_extension": ".py",
   "mimetype": "text/x-python",
   "name": "python",
   "nbconvert_exporter": "python",
   "pygments_lexer": "ipython3",
   "version": "3.6.4"
  }
 },
 "nbformat": 4,
 "nbformat_minor": 2
}
