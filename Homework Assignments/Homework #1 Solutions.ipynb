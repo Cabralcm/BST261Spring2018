{
 "cells": [
  {
   "cell_type": "markdown",
   "metadata": {},
   "source": [
    "# Homework #1\n"
   ]
  },
  {
   "cell_type": "markdown",
   "metadata": {},
   "source": [
    "### Linear Algebra and NumPy Review\n",
    "#### Question 1\n",
    "Consider the two following random arrays \"a\" and \"b\". What are the shapes of a and b, and what will the shape of c be? You can do this in your head or with code."
   ]
  },
  {
   "cell_type": "code",
   "execution_count": 2,
   "metadata": {},
   "outputs": [
    {
     "name": "stdout",
     "output_type": "stream",
     "text": [
      "(2, 3)\n",
      "(2, 1)\n",
      "(2, 3)\n"
     ]
    }
   ],
   "source": [
    "import numpy as np\n",
    "\n",
    "a = np.random.randn(2, 3)\n",
    "b = np.random.randn(2, 1)\n",
    "c = a + b\n",
    "print(a.shape)\n",
    "print(b.shape)\n",
    "print(c.shape)"
   ]
  },
  {
   "cell_type": "markdown",
   "metadata": {},
   "source": [
    "#### Answer 1\n",
    "The shape of a is (2,3) and the shape of b is (2,1). The shape of c will invoke \"broadcasting\": b (column vector) is copied 3 times so that it can be summed with each column of a. Therefore, c.shape = (2, 3)."
   ]
  },
  {
   "cell_type": "markdown",
   "metadata": {},
   "source": [
    "#### Question 2\n",
    "Consider the two following random arrays \"a\" and \"b\". What will be the shape of \"c\"? Why?"
   ]
  },
  {
   "cell_type": "code",
   "execution_count": 3,
   "metadata": {},
   "outputs": [
    {
     "ename": "ValueError",
     "evalue": "operands could not be broadcast together with shapes (4,3) (3,2) ",
     "output_type": "error",
     "traceback": [
      "\u001b[0;31m---------------------------------------------------------------------------\u001b[0m",
      "\u001b[0;31mValueError\u001b[0m                                Traceback (most recent call last)",
      "\u001b[0;32m<ipython-input-3-1054afb1ff9c>\u001b[0m in \u001b[0;36m<module>\u001b[0;34m()\u001b[0m\n\u001b[1;32m      1\u001b[0m \u001b[0ma\u001b[0m \u001b[0;34m=\u001b[0m \u001b[0mnp\u001b[0m\u001b[0;34m.\u001b[0m\u001b[0mrandom\u001b[0m\u001b[0;34m.\u001b[0m\u001b[0mrandn\u001b[0m\u001b[0;34m(\u001b[0m\u001b[0;36m4\u001b[0m\u001b[0;34m,\u001b[0m \u001b[0;36m3\u001b[0m\u001b[0;34m)\u001b[0m\u001b[0;34m\u001b[0m\u001b[0m\n\u001b[1;32m      2\u001b[0m \u001b[0mb\u001b[0m \u001b[0;34m=\u001b[0m \u001b[0mnp\u001b[0m\u001b[0;34m.\u001b[0m\u001b[0mrandom\u001b[0m\u001b[0;34m.\u001b[0m\u001b[0mrandn\u001b[0m\u001b[0;34m(\u001b[0m\u001b[0;36m3\u001b[0m\u001b[0;34m,\u001b[0m \u001b[0;36m2\u001b[0m\u001b[0;34m)\u001b[0m\u001b[0;34m\u001b[0m\u001b[0m\n\u001b[0;32m----> 3\u001b[0;31m \u001b[0mc\u001b[0m \u001b[0;34m=\u001b[0m \u001b[0ma\u001b[0m \u001b[0;34m*\u001b[0m \u001b[0mb\u001b[0m\u001b[0;34m\u001b[0m\u001b[0m\n\u001b[0m",
      "\u001b[0;31mValueError\u001b[0m: operands could not be broadcast together with shapes (4,3) (3,2) "
     ]
    }
   ],
   "source": [
    "a = np.random.randn(4, 3)\n",
    "b = np.random.randn(3, 2)\n",
    "c = a * b"
   ]
  },
  {
   "cell_type": "markdown",
   "metadata": {},
   "source": [
    "#### Answer 2\n",
    "It's going to be an error. The `*` operator indicates element-wise multiplication. Element-wise multiplication requires matrices with the same dimensions. The `@` operator or `np.dot()` should be used instead."
   ]
  },
  {
   "cell_type": "markdown",
   "metadata": {},
   "source": [
    "#### Question 3\n",
    "Suppose an image $x$ is stored as a (64,64,3) array, representing a 64x64 image with 3 color channels red, green and blue. How do you reshape this into a column vector?"
   ]
  },
  {
   "cell_type": "code",
   "execution_count": 4,
   "metadata": {},
   "outputs": [],
   "source": [
    "x = np.random.randn(64, 64, 3)"
   ]
  },
  {
   "cell_type": "markdown",
   "metadata": {},
   "source": [
    "#### Answer 3\n"
   ]
  },
  {
   "cell_type": "code",
   "execution_count": 5,
   "metadata": {},
   "outputs": [
    {
     "data": {
      "text/plain": [
       "(12288, 1)"
      ]
     },
     "execution_count": 5,
     "metadata": {},
     "output_type": "execute_result"
    }
   ],
   "source": [
    "# YOUR CODE HERE\n",
    "x = x.reshape((64 * 64 * 3, 1))\n",
    "x.shape"
   ]
  },
  {
   "cell_type": "markdown",
   "metadata": {},
   "source": [
    "### Deep Feedforward Neural Networks\n",
    "#### Question 4\n",
    "Which of the following are true?\n",
    "1. ***X*** is a matrix in which each column is one training example.\n",
    "2. $a^{[2]}_4$ is the activation output by the 4th neuron of the 2nd layer.\n",
    "3. $a^{[2](12)}$ denotes the activation vector of the 2nd layer for the 12th training example.\n",
    "4. $a^{[2]}$ denotes the activation vector of the 2nd layer."
   ]
  },
  {
   "cell_type": "markdown",
   "metadata": {},
   "source": [
    "#### Answer 4\n",
    "All of them are true."
   ]
  },
  {
   "cell_type": "markdown",
   "metadata": {},
   "source": [
    "#### Question 5\n",
    "You are building a binary classifier for recognizing cucumbers ($y=1$) vs. watermelons ($y=0$). Which one of these activation functions would you recommend using for the output layer?\n",
    "\n",
    "1. ReLU\n",
    "2. Leaky ReLU\n",
    "3. sigmoid\n",
    "4. tanh"
   ]
  },
  {
   "cell_type": "markdown",
   "metadata": {},
   "source": [
    "#### Answer 5\n",
    "(3) The sigmoid function. \n",
    "Sigmoid outputs a value between 0 and 1 which makes it a very good choice for binary classification. You can classify as 0 if the output is less than 0.5 and classify as 1 if the output is more than 0.5. It can be done with tanh as well but it is less convenient as the output is between -1 and 1."
   ]
  },
  {
   "cell_type": "markdown",
   "metadata": {},
   "source": [
    "#### Question 6\n",
    "During forward propagation, in the forward function for a layer $l$, you need to know the activation function in a layer (sigmoid, tanh, ReLU, etc.). During backpropagation, the corresponding backward function also needs to know what the activation function is for layer $l$, since the gradient depends on it. True/False?"
   ]
  },
  {
   "cell_type": "markdown",
   "metadata": {},
   "source": [
    "#### Answer 6\n",
    "True"
   ]
  },
  {
   "cell_type": "markdown",
   "metadata": {},
   "source": [
    "### Classifying newswires: a multi-class classification example\n",
    "In this section, we will build a network to classify Reuters newswires into 46 different mutually-exclusive topics. Since we have many classes, this problem is an instance of \"multi-class classification\", and since each data point should be classified into only one category, the problem is more specifically an instance of \"single-label, multi-class classification\". If each data point could have belonged to multiple categories (in our case, topics) then we would be facing a \"multi-label, multi-class classification\" problem.\n",
    "\n",
    "### The Reuters dataset\n",
    "\n",
    "We will be working with the _Reuters dataset_, a set of short newswires and their topics, published by Reuters in 1986. It's a very simple, widely used toy dataset for text classification. There are 46 different topics; some topics are more represented than others, but each topic has at least 10 examples in the training set. Like IMDB and MNIST, the Reuters dataset comes packaged as part of Keras."
   ]
  },
  {
   "cell_type": "code",
   "execution_count": 7,
   "metadata": {},
   "outputs": [],
   "source": [
    "from keras.datasets import reuters\n",
    "\n",
    "(train_data, train_labels), (test_data, test_labels) = reuters.load_data(num_words=10000)"
   ]
  },
  {
   "cell_type": "markdown",
   "metadata": {},
   "source": [
    "Like with the IMDB dataset, the argument `num_words=10000` restricts the data to the 10,000 most frequently occurring words found in the data.\n",
    "\n",
    "#### Question 7\n",
    "How many traing and testing examples are there in this data set?\n"
   ]
  },
  {
   "cell_type": "code",
   "execution_count": 8,
   "metadata": {},
   "outputs": [
    {
     "name": "stdout",
     "output_type": "stream",
     "text": [
      "8982\n",
      "2246\n"
     ]
    }
   ],
   "source": [
    "# YOUR CODE HERE\n",
    "print(len(train_data))\n",
    "print(len(test_data))"
   ]
  },
  {
   "cell_type": "markdown",
   "metadata": {},
   "source": [
    "#### Answer 7\n",
    "We have 8,982 training examples and 2,246 test examples."
   ]
  },
  {
   "cell_type": "markdown",
   "metadata": {},
   "source": [
    "As with the IMDB reviews, each example is a list of integers (word indices), and the label associated with an example is an integer between 0 and 45: a topic index."
   ]
  },
  {
   "cell_type": "code",
   "execution_count": 9,
   "metadata": {},
   "outputs": [
    {
     "name": "stdout",
     "output_type": "stream",
     "text": [
      "[1, 56, 7224, 81, 40, 1175, 174, 2, 6, 1793, 10, 266, 3315, 5, 1574, 799, 317, 65, 136, 277, 801, 7, 429, 65, 182, 199, 8, 174, 201, 2540, 10, 1806, 5, 401, 20, 1574, 799, 6, 119, 20, 1574, 1075, 136, 10, 277, 498, 120, 31, 7224, 13, 251, 18, 428, 90, 289, 4, 199, 8, 4, 5880, 1806, 23, 124, 20, 799, 317, 6, 482, 20, 1075, 174, 287, 13, 799, 317, 65, 40, 333, 1398, 224, 4, 137, 130, 2, 356, 8181, 2, 172, 4, 1150, 3727, 403, 54, 139, 3045, 692, 31, 6473, 5, 799, 1306, 9, 2, 2735, 17, 12]\n",
      "16\n"
     ]
    }
   ],
   "source": [
    "print(train_data[9])   # The 10th training example's feature vector\n",
    "print(train_labels[9]) # The 10th training example's label"
   ]
  },
  {
   "cell_type": "markdown",
   "metadata": {},
   "source": [
    "### Prepping the data\n",
    "We cannot feed lists of integers into a neural network. We have to turn our lists into tensors.\n",
    "\n",
    "#### Question 8\n",
    "As you saw in class, vectorize the training examples, training labels, test examples and test labels. Recall that there is a built-in function for vectorizing the training and test labels.\n",
    "\n",
    "#### Answer 8"
   ]
  },
  {
   "cell_type": "code",
   "execution_count": 10,
   "metadata": {},
   "outputs": [],
   "source": [
    "from keras.utils.np_utils import to_categorical\n",
    "\n",
    "def vectorize_sequences(sequences, dimension=10000):\n",
    "    results = np.zeros((len(sequences), dimension))\n",
    "    for i, sequence in enumerate(sequences):\n",
    "        results[i, sequence] = 1.\n",
    "    return results\n",
    "\n",
    "# YOUR CODE HERE\n",
    "\n",
    "# Our vectorized training data\n",
    "x_train = vectorize_sequences(train_data)\n",
    "# Our vectorized test data\n",
    "x_test = vectorize_sequences(test_data)\n",
    "\n",
    "one_hot_train_labels = to_categorical(train_labels)\n",
    "one_hot_test_labels = to_categorical(test_labels)\n"
   ]
  },
  {
   "cell_type": "markdown",
   "metadata": {},
   "source": [
    "### Building the network\n",
    "This topic classification problem looks very similar to our previous movie review classification problem: in both cases, we are trying to classify short snippets of text. There is however a new constraint here: the number of output classes has gone from 2 to 46, i.e. the \n",
    "dimensionality of the output space is much larger. \n",
    "\n",
    "In a stack of `Dense` layers like what we were using, each layer can only access information present in the output of the previous layer. If one layer drops some information relevant to the classification problem, this information can never be recovered by later layers: each \n",
    "layer can potentially become an \"information bottleneck\". In our previous example, we were using 16-dimensional intermediate layers, but a 16-dimensional space may be too limited to learn to separate 46 different classes: such small layers may act as information bottlenecks, \n",
    "permanently dropping relevant information.\n",
    "\n",
    "#### Question 9\n",
    "For this reason, you will build a network with more hidden units. Build a 3 layer network using 64 hidden units for the first 2 layers, and an appropriate number of units for the last layer. Be sure to choose an appropriate activation function for each layer.\n",
    "\n",
    "#### Answer 9"
   ]
  },
  {
   "cell_type": "code",
   "execution_count": 11,
   "metadata": {},
   "outputs": [],
   "source": [
    "from keras import models\n",
    "from keras import layers\n",
    "\n",
    "# YOUR CODE HERE\n",
    "model = models.Sequential()\n",
    "model.add(layers.Dense(64, activation='relu', input_shape=(10000,)))\n",
    "model.add(layers.Dense(64, activation='relu'))\n",
    "model.add(layers.Dense(46, activation='softmax'))"
   ]
  },
  {
   "cell_type": "markdown",
   "metadata": {},
   "source": [
    "#### Question 10\n",
    "Now compile the network using the `rmsprop` optimization algorithm, appropriate loss function, and appropriate performance measure.\n",
    "\n",
    "#### Answer 10"
   ]
  },
  {
   "cell_type": "code",
   "execution_count": 12,
   "metadata": {},
   "outputs": [],
   "source": [
    "# YOUR CODE HERE\n",
    "model.compile(optimizer='rmsprop',\n",
    "              loss='categorical_crossentropy',\n",
    "              metrics=['accuracy'])"
   ]
  },
  {
   "cell_type": "markdown",
   "metadata": {},
   "source": [
    "### Validating the approach\n",
    "#### Question 11 \n",
    "Set apart the first 1,500 samples in the training data to be used as validation examples.\n",
    "\n",
    "#### Answer 11"
   ]
  },
  {
   "cell_type": "code",
   "execution_count": 13,
   "metadata": {},
   "outputs": [],
   "source": [
    "# YOUR CODE HERE\n",
    "x_val = x_train[:1500]\n",
    "partial_x_train = x_train[1500:]\n",
    "\n",
    "y_val = one_hot_train_labels[:1500]\n",
    "partial_y_train = one_hot_train_labels[1500:]"
   ]
  },
  {
   "cell_type": "markdown",
   "metadata": {},
   "source": [
    "#### Question 12\n",
    "\n",
    "Train the network for 20 epochs with a batch size of 512. Save the object as `history`.\n",
    "\n",
    "#### Answer 12"
   ]
  },
  {
   "cell_type": "code",
   "execution_count": 14,
   "metadata": {},
   "outputs": [
    {
     "name": "stdout",
     "output_type": "stream",
     "text": [
      "Train on 7482 samples, validate on 1500 samples\n",
      "Epoch 1/20\n",
      "7482/7482 [==============================] - 1s 199us/step - loss: 2.5920 - acc: 0.4834 - val_loss: 1.7943 - val_acc: 0.5887\n",
      "Epoch 2/20\n",
      "7482/7482 [==============================] - 1s 166us/step - loss: 1.4784 - acc: 0.6820 - val_loss: 1.4219 - val_acc: 0.6933\n",
      "Epoch 3/20\n",
      "7482/7482 [==============================] - 1s 167us/step - loss: 1.1178 - acc: 0.7592 - val_loss: 1.2628 - val_acc: 0.7193\n",
      "Epoch 4/20\n",
      "7482/7482 [==============================] - 1s 168us/step - loss: 0.8912 - acc: 0.8083 - val_loss: 1.1435 - val_acc: 0.7467\n",
      "Epoch 5/20\n",
      "7482/7482 [==============================] - 1s 167us/step - loss: 0.7199 - acc: 0.8470 - val_loss: 1.0701 - val_acc: 0.7673\n",
      "Epoch 6/20\n",
      "7482/7482 [==============================] - 1s 166us/step - loss: 0.5823 - acc: 0.8764 - val_loss: 1.0371 - val_acc: 0.7713\n",
      "Epoch 7/20\n",
      "7482/7482 [==============================] - 1s 167us/step - loss: 0.4691 - acc: 0.9008 - val_loss: 1.0180 - val_acc: 0.7747\n",
      "Epoch 8/20\n",
      "7482/7482 [==============================] - 1s 200us/step - loss: 0.3827 - acc: 0.9191 - val_loss: 0.9944 - val_acc: 0.7873\n",
      "Epoch 9/20\n",
      "7482/7482 [==============================] - 1s 167us/step - loss: 0.3131 - acc: 0.9308 - val_loss: 0.9630 - val_acc: 0.7960\n",
      "Epoch 10/20\n",
      "7482/7482 [==============================] - 1s 167us/step - loss: 0.2595 - acc: 0.9405 - val_loss: 0.9828 - val_acc: 0.7893\n",
      "Epoch 11/20\n",
      "7482/7482 [==============================] - 1s 167us/step - loss: 0.2222 - acc: 0.9484 - val_loss: 0.9741 - val_acc: 0.7993\n",
      "Epoch 12/20\n",
      "7482/7482 [==============================] - 1s 167us/step - loss: 0.1932 - acc: 0.9515 - val_loss: 1.0531 - val_acc: 0.7867\n",
      "Epoch 13/20\n",
      "7482/7482 [==============================] - 1s 167us/step - loss: 0.1684 - acc: 0.9519 - val_loss: 1.0554 - val_acc: 0.7960\n",
      "Epoch 14/20\n",
      "7482/7482 [==============================] - 1s 167us/step - loss: 0.1537 - acc: 0.9556 - val_loss: 1.0340 - val_acc: 0.7947\n",
      "Epoch 15/20\n",
      "7482/7482 [==============================] - 1s 176us/step - loss: 0.1407 - acc: 0.9552 - val_loss: 1.0568 - val_acc: 0.7927\n",
      "Epoch 16/20\n",
      "7482/7482 [==============================] - 1s 187us/step - loss: 0.1305 - acc: 0.9574 - val_loss: 1.0549 - val_acc: 0.7987\n",
      "Epoch 17/20\n",
      "7482/7482 [==============================] - 1s 167us/step - loss: 0.1249 - acc: 0.9591 - val_loss: 1.1017 - val_acc: 0.7887\n",
      "Epoch 18/20\n",
      "7482/7482 [==============================] - 1s 167us/step - loss: 0.1132 - acc: 0.9594 - val_loss: 1.1843 - val_acc: 0.7813\n",
      "Epoch 19/20\n",
      "7482/7482 [==============================] - 1s 167us/step - loss: 0.1145 - acc: 0.9567 - val_loss: 1.1110 - val_acc: 0.7933\n",
      "Epoch 20/20\n",
      "7482/7482 [==============================] - 1s 167us/step - loss: 0.1094 - acc: 0.9580 - val_loss: 1.1454 - val_acc: 0.7840\n"
     ]
    }
   ],
   "source": [
    "# YOUR CODE HERE\n",
    "history = model.fit(partial_x_train,\n",
    "                    partial_y_train,\n",
    "                    epochs=20,\n",
    "                    batch_size=512,\n",
    "                    validation_data=(x_val, y_val))"
   ]
  },
  {
   "cell_type": "markdown",
   "metadata": {},
   "source": [
    "### Plotting accuracy\n",
    "\n",
    "Run the following code to display the loss and accuracy curves:"
   ]
  },
  {
   "cell_type": "code",
   "execution_count": 17,
   "metadata": {},
   "outputs": [
    {
     "data": {
      "image/png": "[encoded data removed]",
      "text/plain": [
       "<matplotlib.figure.Figure at 0x7fbcc565e470>"
      ]
     },
     "metadata": {},
     "output_type": "display_data"
    }
   ],
   "source": [
    "import matplotlib.pyplot as plt\n",
    "\n",
    "loss = history.history['loss']\n",
    "val_loss = history.history['val_loss']\n",
    "\n",
    "epochs = range(1, len(loss) + 1)\n",
    "\n",
    "plt.plot(epochs, loss, 'bo', label='Training loss')\n",
    "plt.plot(epochs, val_loss, 'b', label='Validation loss')\n",
    "plt.title('Training and validation loss')\n",
    "plt.xlabel('Epochs')\n",
    "plt.ylabel('Loss')\n",
    "plt.legend()\n",
    "\n",
    "plt.show()"
   ]
  },
  {
   "cell_type": "code",
   "execution_count": 18,
   "metadata": {},
   "outputs": [
    {
     "data": {
      "image/png": "[encoded data removed]",
      "text/plain": [
       "<matplotlib.figure.Figure at 0x7fbcf37a2ef0>"
      ]
     },
     "metadata": {},
     "output_type": "display_data"
    }
   ],
   "source": [
    "plt.clf()   # clear figure\n",
    "\n",
    "acc = history.history['acc']\n",
    "val_acc = history.history['val_acc']\n",
    "\n",
    "plt.plot(epochs, acc, 'bo', label='Training acc')\n",
    "plt.plot(epochs, val_acc, 'b', label='Validation acc')\n",
    "plt.title('Training and validation accuracy')\n",
    "plt.xlabel('Epochs')\n",
    "plt.ylabel('Accuracy')\n",
    "plt.legend()\n",
    "\n",
    "plt.show()"
   ]
  },
  {
   "cell_type": "markdown",
   "metadata": {},
   "source": [
    "#### Question 13\n",
    "When does the network start overfitting?\n",
    "\n",
    "#### Answer 13\n",
    "After 8 epochs. "
   ]
  },
  {
   "cell_type": "markdown",
   "metadata": {},
   "source": [
    "#### Question 14\n",
    "Train a new network from scratch for 8 epochs, and then evaluate it on the test set. Use the same model parameters as before (number of layers, hidden units, batch size, optimixation algorithm, activation functions, performance measure).\n",
    "\n",
    "#### Answer 14"
   ]
  },
  {
   "cell_type": "code",
   "execution_count": 19,
   "metadata": {},
   "outputs": [
    {
     "name": "stdout",
     "output_type": "stream",
     "text": [
      "Train on 7482 samples, validate on 1500 samples\n",
      "Epoch 1/8\n",
      "7482/7482 [==============================] - 1s 182us/step - loss: 2.6107 - acc: 0.4910 - val_loss: 1.8024 - val_acc: 0.6253\n",
      "Epoch 2/8\n",
      "7482/7482 [==============================] - 1s 195us/step - loss: 1.4745 - acc: 0.6836 - val_loss: 1.4144 - val_acc: 0.6827\n",
      "Epoch 3/8\n",
      "7482/7482 [==============================] - 1s 170us/step - loss: 1.1045 - acc: 0.7525 - val_loss: 1.2420 - val_acc: 0.7233\n",
      "Epoch 4/8\n",
      "7482/7482 [==============================] - 1s 167us/step - loss: 0.8761 - acc: 0.8062 - val_loss: 1.1381 - val_acc: 0.7620\n",
      "Epoch 5/8\n",
      "7482/7482 [==============================] - 1s 167us/step - loss: 0.7013 - acc: 0.8510 - val_loss: 1.0604 - val_acc: 0.7733\n",
      "Epoch 6/8\n",
      "7482/7482 [==============================] - 1s 168us/step - loss: 0.5644 - acc: 0.8843 - val_loss: 1.0391 - val_acc: 0.7633\n",
      "Epoch 7/8\n",
      "7482/7482 [==============================] - 1s 166us/step - loss: 0.4550 - acc: 0.9043 - val_loss: 0.9862 - val_acc: 0.7907\n",
      "Epoch 8/8\n",
      "7482/7482 [==============================] - 1s 166us/step - loss: 0.3736 - acc: 0.9237 - val_loss: 0.9714 - val_acc: 0.7960\n",
      "2246/2246 [==============================] - 0s 112us/step\n"
     ]
    }
   ],
   "source": [
    "# YOUR CODE HERE\n",
    "model = models.Sequential()\n",
    "model.add(layers.Dense(64, activation='relu', input_shape=(10000,)))\n",
    "model.add(layers.Dense(64, activation='relu'))\n",
    "model.add(layers.Dense(46, activation='softmax'))\n",
    "\n",
    "model.compile(optimizer='rmsprop',\n",
    "              loss='categorical_crossentropy',\n",
    "              metrics=['accuracy'])\n",
    "\n",
    "model.fit(partial_x_train,\n",
    "          partial_y_train,\n",
    "          epochs=8,\n",
    "          batch_size=512,\n",
    "          validation_data=(x_val, y_val))\n",
    "\n",
    "results = model.evaluate(x_test, one_hot_test_labels)"
   ]
  },
  {
   "cell_type": "markdown",
   "metadata": {},
   "source": [
    "#### Question 15\n",
    "\n",
    "Print the results. Briefly discuss the results and if the network performs better than a random baseline.\n",
    "\n",
    "#### Answer 15"
   ]
  },
  {
   "cell_type": "code",
   "execution_count": 20,
   "metadata": {},
   "outputs": [
    {
     "name": "stdout",
     "output_type": "stream",
     "text": [
      "[1.000737855822936, 0.7818343722703515]\n"
     ]
    }
   ],
   "source": [
    "# YOUR CODE HERE\n",
    "print(results)"
   ]
  },
  {
   "cell_type": "markdown",
   "metadata": {},
   "source": [
    "Our approach reaches an accuracy of ~78%. With a balanced binary classification problem, the accuracy reached by a purely random classifier would be 50%, but in our case it is closer to 19%, so our results seem pretty good, at least when compared to a random baseline."
   ]
  },
  {
   "cell_type": "markdown",
   "metadata": {},
   "source": [
    "#### Question 16\n",
    "\n",
    "Build the same network as before, but now with only 4 hidden units in your second layer. Train the network for 20 epochs and describe and comment on the difference in accuracy.\n",
    "\n",
    "#### Answer 16"
   ]
  },
  {
   "cell_type": "code",
   "execution_count": 21,
   "metadata": {},
   "outputs": [
    {
     "name": "stdout",
     "output_type": "stream",
     "text": [
      "Train on 7482 samples, validate on 1500 samples\n",
      "Epoch 1/20\n",
      "7482/7482 [==============================] - 1s 183us/step - loss: 3.6787 - acc: 0.0091 - val_loss: 3.5208 - val_acc: 0.0227\n",
      "Epoch 2/20\n",
      "7482/7482 [==============================] - 1s 196us/step - loss: 3.3786 - acc: 0.0243 - val_loss: 3.2792 - val_acc: 0.0340\n",
      "Epoch 3/20\n",
      "7482/7482 [==============================] - 1s 166us/step - loss: 3.0990 - acc: 0.0461 - val_loss: 3.0309 - val_acc: 0.0693\n",
      "Epoch 4/20\n",
      "7482/7482 [==============================] - 1s 167us/step - loss: 2.7981 - acc: 0.1914 - val_loss: 2.7548 - val_acc: 0.2287\n",
      "Epoch 5/20\n",
      "7482/7482 [==============================] - 1s 166us/step - loss: 2.4578 - acc: 0.2493 - val_loss: 2.4344 - val_acc: 0.2393\n",
      "Epoch 6/20\n",
      "7482/7482 [==============================] - 1s 164us/step - loss: 2.0955 - acc: 0.3176 - val_loss: 2.1331 - val_acc: 0.5607\n",
      "Epoch 7/20\n",
      "7482/7482 [==============================] - 1s 164us/step - loss: 1.7586 - acc: 0.6052 - val_loss: 1.8792 - val_acc: 0.5820\n",
      "Epoch 8/20\n",
      "7482/7482 [==============================] - 1s 164us/step - loss: 1.5145 - acc: 0.6335 - val_loss: 1.7289 - val_acc: 0.6080\n",
      "Epoch 9/20\n",
      "7482/7482 [==============================] - 1s 175us/step - loss: 1.3541 - acc: 0.6486 - val_loss: 1.6477 - val_acc: 0.6047\n",
      "Epoch 10/20\n",
      "7482/7482 [==============================] - 1s 184us/step - loss: 1.2418 - acc: 0.6568 - val_loss: 1.5892 - val_acc: 0.6153\n",
      "Epoch 11/20\n",
      "7482/7482 [==============================] - 1s 166us/step - loss: 1.1544 - acc: 0.6692 - val_loss: 1.5680 - val_acc: 0.6147\n",
      "Epoch 12/20\n",
      "7482/7482 [==============================] - 1s 166us/step - loss: 1.0784 - acc: 0.6824 - val_loss: 1.5300 - val_acc: 0.6240\n",
      "Epoch 13/20\n",
      "7482/7482 [==============================] - 1s 167us/step - loss: 1.0137 - acc: 0.6957 - val_loss: 1.5032 - val_acc: 0.6287\n",
      "Epoch 14/20\n",
      "7482/7482 [==============================] - 1s 166us/step - loss: 0.9532 - acc: 0.7116 - val_loss: 1.4872 - val_acc: 0.6447\n",
      "Epoch 15/20\n",
      "7482/7482 [==============================] - 1s 168us/step - loss: 0.8948 - acc: 0.7430 - val_loss: 1.4848 - val_acc: 0.6627\n",
      "Epoch 16/20\n",
      "7482/7482 [==============================] - 1s 167us/step - loss: 0.8403 - acc: 0.7658 - val_loss: 1.4792 - val_acc: 0.6687\n",
      "Epoch 17/20\n",
      "7482/7482 [==============================] - 1s 185us/step - loss: 0.7902 - acc: 0.7871 - val_loss: 1.4703 - val_acc: 0.6853\n",
      "Epoch 18/20\n",
      "7482/7482 [==============================] - 1s 176us/step - loss: 0.7462 - acc: 0.8078 - val_loss: 1.4769 - val_acc: 0.6907\n",
      "Epoch 19/20\n",
      "7482/7482 [==============================] - 1s 166us/step - loss: 0.7065 - acc: 0.8265 - val_loss: 1.4807 - val_acc: 0.6993\n",
      "Epoch 20/20\n",
      "7482/7482 [==============================] - 1s 169us/step - loss: 0.6695 - acc: 0.8384 - val_loss: 1.4921 - val_acc: 0.7013\n",
      "2246/2246 [==============================] - 0s 120us/step\n"
     ]
    }
   ],
   "source": [
    "# YOUR CODE HERE\n",
    "model = models.Sequential()\n",
    "model.add(layers.Dense(64, activation='relu', input_shape=(10000,)))\n",
    "model.add(layers.Dense(4, activation='relu'))\n",
    "model.add(layers.Dense(46, activation='softmax'))\n",
    "\n",
    "model.compile(optimizer='rmsprop',\n",
    "              loss='categorical_crossentropy',\n",
    "              metrics=['accuracy'])\n",
    "\n",
    "model.fit(partial_x_train,\n",
    "          partial_y_train,\n",
    "          epochs=20,\n",
    "          batch_size=512,\n",
    "          validation_data=(x_val, y_val))\n",
    "\n",
    "results = model.evaluate(x_test, one_hot_test_labels)"
   ]
  },
  {
   "cell_type": "code",
   "execution_count": 22,
   "metadata": {},
   "outputs": [
    {
     "name": "stdout",
     "output_type": "stream",
     "text": [
      "[1.5325054305001018, 0.6869991095811261]\n"
     ]
    }
   ],
   "source": [
    "print(results)"
   ]
  },
  {
   "cell_type": "markdown",
   "metadata": {},
   "source": [
    "The accuracy for the validation set is ~68.7%. This is quite a bit lower than the accuracy we had above when we had 64 hidden units in each hidden layer. This is an example of how a bottleneck will decrease accuracy due to a loss of information."
   ]
  },
  {
   "cell_type": "markdown",
   "metadata": {},
   "source": [
    "#### Question 17\n",
    "\n",
    "Now build the original network but with 32 hidden units in each hidden layer. Train the network for 20 epochs and describe and comment on the difference in accuracy.\n",
    "\n",
    "#### Answer 17"
   ]
  },
  {
   "cell_type": "code",
   "execution_count": 23,
   "metadata": {},
   "outputs": [
    {
     "name": "stdout",
     "output_type": "stream",
     "text": [
      "Train on 7482 samples, validate on 1500 samples\n",
      "Epoch 1/20\n",
      "7482/7482 [==============================] - 1s 148us/step - loss: 3.1164 - acc: 0.3482 - val_loss: 2.3709 - val_acc: 0.5187\n",
      "Epoch 2/20\n",
      "7482/7482 [==============================] - 1s 128us/step - loss: 1.9632 - acc: 0.6136 - val_loss: 1.7365 - val_acc: 0.6387\n",
      "Epoch 3/20\n",
      "7482/7482 [==============================] - 1s 128us/step - loss: 1.4781 - acc: 0.6975 - val_loss: 1.4835 - val_acc: 0.6773\n",
      "Epoch 4/20\n",
      "7482/7482 [==============================] - 1s 128us/step - loss: 1.2243 - acc: 0.7363 - val_loss: 1.3416 - val_acc: 0.7067\n",
      "Epoch 5/20\n",
      "7482/7482 [==============================] - 1s 127us/step - loss: 1.0465 - acc: 0.7756 - val_loss: 1.2528 - val_acc: 0.7113\n",
      "Epoch 6/20\n",
      "7482/7482 [==============================] - 1s 127us/step - loss: 0.9046 - acc: 0.8046 - val_loss: 1.1756 - val_acc: 0.7447\n",
      "Epoch 7/20\n",
      "7482/7482 [==============================] - 1s 129us/step - loss: 0.7849 - acc: 0.8320 - val_loss: 1.1249 - val_acc: 0.7520\n",
      "Epoch 8/20\n",
      "7482/7482 [==============================] - 1s 129us/step - loss: 0.6837 - acc: 0.8518 - val_loss: 1.0769 - val_acc: 0.7607\n",
      "Epoch 9/20\n",
      "7482/7482 [==============================] - 1s 160us/step - loss: 0.5956 - acc: 0.8704 - val_loss: 1.0590 - val_acc: 0.7633\n",
      "Epoch 10/20\n",
      "7482/7482 [==============================] - 1s 128us/step - loss: 0.5189 - acc: 0.8893 - val_loss: 1.0224 - val_acc: 0.7733\n",
      "Epoch 11/20\n",
      "7482/7482 [==============================] - 1s 129us/step - loss: 0.4515 - acc: 0.9048 - val_loss: 1.0018 - val_acc: 0.7880\n",
      "Epoch 12/20\n",
      "7482/7482 [==============================] - 1s 128us/step - loss: 0.3956 - acc: 0.9166 - val_loss: 0.9884 - val_acc: 0.7900\n",
      "Epoch 13/20\n",
      "7482/7482 [==============================] - 1s 128us/step - loss: 0.3449 - acc: 0.9278 - val_loss: 0.9838 - val_acc: 0.7927\n",
      "Epoch 14/20\n",
      "7482/7482 [==============================] - 1s 130us/step - loss: 0.3044 - acc: 0.9368 - val_loss: 0.9912 - val_acc: 0.7880\n",
      "Epoch 15/20\n",
      "7482/7482 [==============================] - 1s 128us/step - loss: 0.2688 - acc: 0.9403 - val_loss: 1.0031 - val_acc: 0.7920\n",
      "Epoch 16/20\n",
      "7482/7482 [==============================] - 1s 130us/step - loss: 0.2419 - acc: 0.9461 - val_loss: 1.0113 - val_acc: 0.7967\n",
      "Epoch 17/20\n",
      "7482/7482 [==============================] - 1s 129us/step - loss: 0.2170 - acc: 0.9492 - val_loss: 1.0171 - val_acc: 0.7960\n",
      "Epoch 18/20\n",
      "7482/7482 [==============================] - 1s 128us/step - loss: 0.1958 - acc: 0.9534 - val_loss: 1.0122 - val_acc: 0.8000\n",
      "Epoch 19/20\n",
      "7482/7482 [==============================] - 1s 156us/step - loss: 0.1756 - acc: 0.9551 - val_loss: 1.0464 - val_acc: 0.7980\n",
      "Epoch 20/20\n",
      "7482/7482 [==============================] - 1s 128us/step - loss: 0.1666 - acc: 0.9544 - val_loss: 1.0298 - val_acc: 0.7967\n",
      "2246/2246 [==============================] - 0s 77us/step\n"
     ]
    }
   ],
   "source": [
    "# YOUR CODE HERE\n",
    "model = models.Sequential()\n",
    "model.add(layers.Dense(32, activation='relu', input_shape=(10000,)))\n",
    "model.add(layers.Dense(32, activation='relu'))\n",
    "model.add(layers.Dense(46, activation='softmax'))\n",
    "\n",
    "model.compile(optimizer='rmsprop',\n",
    "              loss='categorical_crossentropy',\n",
    "              metrics=['accuracy'])\n",
    "\n",
    "model.fit(partial_x_train,\n",
    "          partial_y_train,\n",
    "          epochs=20,\n",
    "          batch_size=512,\n",
    "          validation_data=(x_val, y_val))\n",
    "\n",
    "results = model.evaluate(x_test, one_hot_test_labels)"
   ]
  },
  {
   "cell_type": "code",
   "execution_count": 24,
   "metadata": {},
   "outputs": [
    {
     "name": "stdout",
     "output_type": "stream",
     "text": [
      "[1.0861815098450849, 0.7791629563668745]\n"
     ]
    }
   ],
   "source": [
    "print(results)"
   ]
  },
  {
   "cell_type": "markdown",
   "metadata": {},
   "source": [
    "We achieve an accuracy of 77.9% which is the same as the original model with 64 hidden units in each hidden layer. It seems like decreasing the number of hidden nodes didn't hurt the accuracy and that this smaller model would be preferred over the more complex one above. "
   ]
  },
  {
   "cell_type": "markdown",
   "metadata": {},
   "source": [
    "#### Question 18\n",
    "\n",
    "Now build a network with 3 hidden layers with 64 hidden units in each layer. Train the network for 20 epochs and describe and comment on the difference in accuracy.\n",
    "\n",
    "#### Answer 18"
   ]
  },
  {
   "cell_type": "code",
   "execution_count": 25,
   "metadata": {},
   "outputs": [
    {
     "name": "stdout",
     "output_type": "stream",
     "text": [
      "Train on 7482 samples, validate on 1500 samples\n",
      "Epoch 1/20\n",
      "7482/7482 [==============================] - 1s 190us/step - loss: 2.6364 - acc: 0.5164 - val_loss: 1.7266 - val_acc: 0.6347\n",
      "Epoch 2/20\n",
      "7482/7482 [==============================] - 1s 162us/step - loss: 1.4082 - acc: 0.7003 - val_loss: 1.3868 - val_acc: 0.6993\n",
      "Epoch 3/20\n",
      "7482/7482 [==============================] - 1s 160us/step - loss: 1.0679 - acc: 0.7637 - val_loss: 1.2654 - val_acc: 0.7220\n",
      "Epoch 4/20\n",
      "7482/7482 [==============================] - 1s 164us/step - loss: 0.8515 - acc: 0.8075 - val_loss: 1.2058 - val_acc: 0.7427\n",
      "Epoch 5/20\n",
      "7482/7482 [==============================] - 1s 194us/step - loss: 0.6860 - acc: 0.8455 - val_loss: 1.0981 - val_acc: 0.7640\n",
      "Epoch 6/20\n",
      "7482/7482 [==============================] - 1s 163us/step - loss: 0.5356 - acc: 0.8816 - val_loss: 1.1899 - val_acc: 0.7533\n",
      "Epoch 7/20\n",
      "7482/7482 [==============================] - 1s 159us/step - loss: 0.4408 - acc: 0.9055 - val_loss: 1.1448 - val_acc: 0.7767\n",
      "Epoch 8/20\n",
      "7482/7482 [==============================] - 1s 162us/step - loss: 0.3529 - acc: 0.9264 - val_loss: 1.0982 - val_acc: 0.7880\n",
      "Epoch 9/20\n",
      "7482/7482 [==============================] - 1s 160us/step - loss: 0.2798 - acc: 0.9404 - val_loss: 1.0890 - val_acc: 0.7993\n",
      "Epoch 10/20\n",
      "7482/7482 [==============================] - 1s 162us/step - loss: 0.2479 - acc: 0.9425 - val_loss: 1.1700 - val_acc: 0.7740\n",
      "Epoch 11/20\n",
      "7482/7482 [==============================] - 1s 160us/step - loss: 0.2022 - acc: 0.9523 - val_loss: 1.1257 - val_acc: 0.8013\n",
      "Epoch 12/20\n",
      "7482/7482 [==============================] - 1s 164us/step - loss: 0.1875 - acc: 0.9548 - val_loss: 1.1852 - val_acc: 0.7860\n",
      "Epoch 13/20\n",
      "7482/7482 [==============================] - 1s 194us/step - loss: 0.1675 - acc: 0.9546 - val_loss: 1.2235 - val_acc: 0.7780\n",
      "Epoch 14/20\n",
      "7482/7482 [==============================] - 1s 163us/step - loss: 0.1609 - acc: 0.9540 - val_loss: 1.2509 - val_acc: 0.7833\n",
      "Epoch 15/20\n",
      "7482/7482 [==============================] - 1s 160us/step - loss: 0.1392 - acc: 0.9579 - val_loss: 1.1950 - val_acc: 0.7953\n",
      "Epoch 16/20\n",
      "7482/7482 [==============================] - 1s 163us/step - loss: 0.1328 - acc: 0.9599 - val_loss: 1.3117 - val_acc: 0.7813\n",
      "Epoch 17/20\n",
      "7482/7482 [==============================] - 1s 160us/step - loss: 0.1277 - acc: 0.9582 - val_loss: 1.2827 - val_acc: 0.7907\n",
      "Epoch 18/20\n",
      "7482/7482 [==============================] - 1s 162us/step - loss: 0.1233 - acc: 0.9579 - val_loss: 1.2677 - val_acc: 0.7907\n",
      "Epoch 19/20\n",
      "7482/7482 [==============================] - 1s 159us/step - loss: 0.1205 - acc: 0.9575 - val_loss: 1.3832 - val_acc: 0.7607\n",
      "Epoch 20/20\n",
      "7482/7482 [==============================] - 1s 164us/step - loss: 0.1145 - acc: 0.9594 - val_loss: 1.2746 - val_acc: 0.7893\n",
      "2246/2246 [==============================] - 0s 115us/step\n"
     ]
    }
   ],
   "source": [
    "# YOUR CODE HERE\n",
    "model = models.Sequential()\n",
    "model.add(layers.Dense(64, activation='relu', input_shape=(10000,)))\n",
    "model.add(layers.Dense(64, activation='relu'))\n",
    "model.add(layers.Dense(64, activation='relu'))\n",
    "model.add(layers.Dense(46, activation='softmax'))\n",
    "\n",
    "model.compile(optimizer='rmsprop',\n",
    "              loss='categorical_crossentropy',\n",
    "              metrics=['accuracy'])\n",
    "\n",
    "model.fit(partial_x_train,\n",
    "          partial_y_train,\n",
    "          epochs=20,\n",
    "          batch_size=512,\n",
    "          validation_data=(x_val, y_val))\n",
    "\n",
    "results = model.evaluate(x_test, one_hot_test_labels)"
   ]
  },
  {
   "cell_type": "code",
   "execution_count": 26,
   "metadata": {},
   "outputs": [
    {
     "name": "stdout",
     "output_type": "stream",
     "text": [
      "[1.3123582341473545, 0.7849510240427426]\n"
     ]
    }
   ],
   "source": [
    "print(results)"
   ]
  },
  {
   "cell_type": "markdown",
   "metadata": {},
   "source": [
    "This model achieves an accuracy of 78.5%, which is again close to the original model above with 2 hidden layers and 64 units in each hidden layer. It looks like adding a layer doesn't increase the accuracy and a network with only 2 hidden layers would suffice."
   ]
  },
  {
   "cell_type": "markdown",
   "metadata": {},
   "source": [
    "#### Question 19\n",
    "\n",
    "Now build a network with 3 hidden layers with 128 hidden units in each layer. Train the network for 20 epochs and describe and comment on the difference in accuracy.\n",
    "\n",
    "#### Answer 19"
   ]
  },
  {
   "cell_type": "code",
   "execution_count": 27,
   "metadata": {},
   "outputs": [
    {
     "name": "stdout",
     "output_type": "stream",
     "text": [
      "Train on 7482 samples, validate on 1500 samples\n",
      "Epoch 1/20\n",
      "7482/7482 [==============================] - 2s 287us/step - loss: 2.2908 - acc: 0.5152 - val_loss: 1.5568 - val_acc: 0.6373\n",
      "Epoch 2/20\n",
      "7482/7482 [==============================] - 2s 244us/step - loss: 1.1880 - acc: 0.7203 - val_loss: 1.2043 - val_acc: 0.7273\n",
      "Epoch 3/20\n",
      "7482/7482 [==============================] - 2s 243us/step - loss: 0.8557 - acc: 0.8051 - val_loss: 1.1291 - val_acc: 0.7500\n",
      "Epoch 4/20\n",
      "7482/7482 [==============================] - 2s 247us/step - loss: 0.6466 - acc: 0.8519 - val_loss: 1.0181 - val_acc: 0.7773\n",
      "Epoch 5/20\n",
      "7482/7482 [==============================] - 2s 241us/step - loss: 0.4767 - acc: 0.8927 - val_loss: 0.9623 - val_acc: 0.8040\n",
      "Epoch 6/20\n",
      "7482/7482 [==============================] - 2s 278us/step - loss: 0.3470 - acc: 0.9268 - val_loss: 1.3600 - val_acc: 0.7073\n",
      "Epoch 7/20\n",
      "7482/7482 [==============================] - 2s 242us/step - loss: 0.2936 - acc: 0.9308 - val_loss: 1.0062 - val_acc: 0.7960\n",
      "Epoch 8/20\n",
      "7482/7482 [==============================] - 2s 245us/step - loss: 0.2182 - acc: 0.9469 - val_loss: 0.9905 - val_acc: 0.8033\n",
      "Epoch 9/20\n",
      "7482/7482 [==============================] - 2s 241us/step - loss: 0.1853 - acc: 0.9550 - val_loss: 1.0589 - val_acc: 0.7980\n",
      "Epoch 10/20\n",
      "7482/7482 [==============================] - 2s 246us/step - loss: 0.1760 - acc: 0.9532 - val_loss: 1.1299 - val_acc: 0.7880\n",
      "Epoch 11/20\n",
      "7482/7482 [==============================] - 2s 278us/step - loss: 0.1536 - acc: 0.9584 - val_loss: 1.0840 - val_acc: 0.8013\n",
      "Epoch 12/20\n",
      "7482/7482 [==============================] - 2s 244us/step - loss: 0.1356 - acc: 0.9599 - val_loss: 1.1041 - val_acc: 0.7953\n",
      "Epoch 13/20\n",
      "7482/7482 [==============================] - 2s 242us/step - loss: 0.1451 - acc: 0.9527 - val_loss: 1.0963 - val_acc: 0.7993\n",
      "Epoch 14/20\n",
      "7482/7482 [==============================] - 2s 245us/step - loss: 0.1198 - acc: 0.9584 - val_loss: 1.1573 - val_acc: 0.7940\n",
      "Epoch 15/20\n",
      "7482/7482 [==============================] - 2s 243us/step - loss: 0.1146 - acc: 0.9587 - val_loss: 1.3226 - val_acc: 0.7600\n",
      "Epoch 16/20\n",
      "7482/7482 [==============================] - 2s 244us/step - loss: 0.1151 - acc: 0.9590 - val_loss: 1.1790 - val_acc: 0.7933\n",
      "Epoch 17/20\n",
      "7482/7482 [==============================] - 2s 276us/step - loss: 0.1102 - acc: 0.9582 - val_loss: 1.1605 - val_acc: 0.7927\n",
      "Epoch 18/20\n",
      "7482/7482 [==============================] - 2s 244us/step - loss: 0.1029 - acc: 0.9574 - val_loss: 1.1376 - val_acc: 0.7927\n",
      "Epoch 19/20\n",
      "7482/7482 [==============================] - 2s 241us/step - loss: 0.1005 - acc: 0.9596 - val_loss: 1.2777 - val_acc: 0.7820\n",
      "Epoch 20/20\n",
      "7482/7482 [==============================] - 2s 244us/step - loss: 0.0972 - acc: 0.9603 - val_loss: 1.3299 - val_acc: 0.7880\n",
      "2246/2246 [==============================] - 0s 133us/step\n"
     ]
    }
   ],
   "source": [
    "# YOUR CODE HERE\n",
    "model = models.Sequential()\n",
    "model.add(layers.Dense(128, activation='relu', input_shape=(10000,)))\n",
    "model.add(layers.Dense(128, activation='relu'))\n",
    "model.add(layers.Dense(128, activation='relu'))\n",
    "model.add(layers.Dense(46, activation='softmax'))\n",
    "\n",
    "model.compile(optimizer='rmsprop',\n",
    "              loss='categorical_crossentropy',\n",
    "              metrics=['accuracy'])\n",
    "\n",
    "model.fit(partial_x_train,\n",
    "          partial_y_train,\n",
    "          epochs=20,\n",
    "          batch_size=512,\n",
    "          validation_data=(x_val, y_val))\n",
    "\n",
    "results = model.evaluate(x_test, one_hot_test_labels)"
   ]
  },
  {
   "cell_type": "code",
   "execution_count": 28,
   "metadata": {},
   "outputs": [
    {
     "name": "stdout",
     "output_type": "stream",
     "text": [
      "[1.41658746166518, 0.7702582368655387]\n"
     ]
    }
   ],
   "source": [
    "print(results)"
   ]
  },
  {
   "cell_type": "markdown",
   "metadata": {},
   "source": [
    "Again we see that increasing the number of hidden units does not increase the accuracy of the model and that a smaller model would suffice."
   ]
  },
  {
   "cell_type": "markdown",
   "metadata": {},
   "source": [
    "### Fighting Overfitting\n",
    "\n",
    "#### Question 20\n",
    "Use the original network from Question 14 and the smaller network from Question 16. Make a single plot that shows their validation loss across epochs. Comment on when each network starts overfitting.\n",
    "\n",
    "#### Answer 20"
   ]
  },
  {
   "cell_type": "code",
   "execution_count": 32,
   "metadata": {},
   "outputs": [
    {
     "name": "stdout",
     "output_type": "stream",
     "text": [
      "Train on 7482 samples, validate on 1500 samples\n",
      "Epoch 1/20\n",
      "7482/7482 [==============================] - 1s 199us/step - loss: 2.6099 - acc: 0.5254 - val_loss: 1.7836 - val_acc: 0.6240\n",
      "Epoch 2/20\n",
      "7482/7482 [==============================] - 1s 161us/step - loss: 1.4264 - acc: 0.7045 - val_loss: 1.3891 - val_acc: 0.6980\n",
      "Epoch 3/20\n",
      "7482/7482 [==============================] - 1s 156us/step - loss: 1.0624 - acc: 0.7728 - val_loss: 1.2040 - val_acc: 0.7287\n",
      "Epoch 4/20\n",
      "7482/7482 [==============================] - 1s 160us/step - loss: 0.8418 - acc: 0.8184 - val_loss: 1.1036 - val_acc: 0.7593\n",
      "Epoch 5/20\n",
      "7482/7482 [==============================] - 1s 165us/step - loss: 0.6742 - acc: 0.8591 - val_loss: 1.0543 - val_acc: 0.7720\n",
      "Epoch 6/20\n",
      "7482/7482 [==============================] - 1s 183us/step - loss: 0.5432 - acc: 0.8865 - val_loss: 1.0117 - val_acc: 0.7840\n",
      "Epoch 7/20\n",
      "7482/7482 [==============================] - 1s 157us/step - loss: 0.4370 - acc: 0.9091 - val_loss: 0.9974 - val_acc: 0.7813\n",
      "Epoch 8/20\n",
      "7482/7482 [==============================] - 1s 160us/step - loss: 0.3564 - acc: 0.9246 - val_loss: 0.9693 - val_acc: 0.8060\n",
      "Epoch 9/20\n",
      "7482/7482 [==============================] - 1s 157us/step - loss: 0.2955 - acc: 0.9358 - val_loss: 0.9787 - val_acc: 0.7940\n",
      "Epoch 10/20\n",
      "7482/7482 [==============================] - 1s 160us/step - loss: 0.2472 - acc: 0.9451 - val_loss: 0.9799 - val_acc: 0.8007\n",
      "Epoch 11/20\n",
      "7482/7482 [==============================] - 1s 157us/step - loss: 0.2081 - acc: 0.9507 - val_loss: 0.9704 - val_acc: 0.7993\n",
      "Epoch 12/20\n",
      "7482/7482 [==============================] - 1s 161us/step - loss: 0.1862 - acc: 0.9507 - val_loss: 0.9689 - val_acc: 0.8100\n",
      "Epoch 13/20\n",
      "7482/7482 [==============================] - 1s 159us/step - loss: 0.1643 - acc: 0.9538 - val_loss: 0.9744 - val_acc: 0.8187\n",
      "Epoch 14/20\n",
      "7482/7482 [==============================] - 1s 195us/step - loss: 0.1489 - acc: 0.9566 - val_loss: 1.0500 - val_acc: 0.7947\n",
      "Epoch 15/20\n",
      "7482/7482 [==============================] - 1s 158us/step - loss: 0.1336 - acc: 0.9564 - val_loss: 1.0448 - val_acc: 0.8060\n",
      "Epoch 16/20\n",
      "7482/7482 [==============================] - 1s 161us/step - loss: 0.1260 - acc: 0.9584 - val_loss: 1.0805 - val_acc: 0.8020\n",
      "Epoch 17/20\n",
      "7482/7482 [==============================] - 1s 158us/step - loss: 0.1247 - acc: 0.9571 - val_loss: 1.0437 - val_acc: 0.8120\n",
      "Epoch 18/20\n",
      "7482/7482 [==============================] - 1s 162us/step - loss: 0.1178 - acc: 0.9579 - val_loss: 1.1065 - val_acc: 0.7967\n",
      "Epoch 19/20\n",
      "7482/7482 [==============================] - 1s 157us/step - loss: 0.1080 - acc: 0.9616 - val_loss: 1.1273 - val_acc: 0.7973\n",
      "Epoch 20/20\n",
      "7482/7482 [==============================] - 1s 160us/step - loss: 0.1053 - acc: 0.9604 - val_loss: 1.1229 - val_acc: 0.8047\n",
      "2246/2246 [==============================] - 0s 116us/step\n",
      "Train on 7482 samples, validate on 1500 samples\n",
      "Epoch 1/20\n",
      "7482/7482 [==============================] - 2s 229us/step - loss: 3.6313 - acc: 0.0349 - val_loss: 3.4122 - val_acc: 0.0420\n",
      "Epoch 2/20\n",
      "7482/7482 [==============================] - 1s 159us/step - loss: 3.2073 - acc: 0.0688 - val_loss: 3.0656 - val_acc: 0.4267\n",
      "Epoch 3/20\n",
      "7482/7482 [==============================] - 1s 156us/step - loss: 2.8336 - acc: 0.4801 - val_loss: 2.7678 - val_acc: 0.4760\n",
      "Epoch 4/20\n",
      "7482/7482 [==============================] - 1s 160us/step - loss: 2.5249 - acc: 0.5015 - val_loss: 2.5524 - val_acc: 0.4860\n",
      "Epoch 5/20\n",
      "7482/7482 [==============================] - 1s 157us/step - loss: 2.3096 - acc: 0.5198 - val_loss: 2.4163 - val_acc: 0.5120\n",
      "Epoch 6/20\n",
      "7482/7482 [==============================] - 1s 160us/step - loss: 2.1687 - acc: 0.5372 - val_loss: 2.3383 - val_acc: 0.5087\n",
      "Epoch 7/20\n",
      "7482/7482 [==============================] - 1s 156us/step - loss: 2.0606 - acc: 0.5495 - val_loss: 2.2894 - val_acc: 0.5133\n",
      "Epoch 8/20\n",
      "7482/7482 [==============================] - 1s 159us/step - loss: 1.9704 - acc: 0.5666 - val_loss: 2.2508 - val_acc: 0.5080\n",
      "Epoch 9/20\n",
      "7482/7482 [==============================] - 1s 161us/step - loss: 1.8846 - acc: 0.5732 - val_loss: 2.1797 - val_acc: 0.5393\n",
      "Epoch 10/20\n",
      "7482/7482 [==============================] - 1s 186us/step - loss: 1.8068 - acc: 0.5890 - val_loss: 2.1502 - val_acc: 0.5400\n",
      "Epoch 11/20\n",
      "7482/7482 [==============================] - 1s 155us/step - loss: 1.7281 - acc: 0.6093 - val_loss: 2.1175 - val_acc: 0.5133\n",
      "Epoch 12/20\n",
      "7482/7482 [==============================] - 1s 158us/step - loss: 1.6491 - acc: 0.5949 - val_loss: 2.0574 - val_acc: 0.5013\n",
      "Epoch 13/20\n",
      "7482/7482 [==============================] - 1s 156us/step - loss: 1.5635 - acc: 0.5845 - val_loss: 1.9860 - val_acc: 0.5027\n",
      "Epoch 14/20\n",
      "7482/7482 [==============================] - 1s 160us/step - loss: 1.4684 - acc: 0.5870 - val_loss: 1.9106 - val_acc: 0.5087\n",
      "Epoch 15/20\n",
      "7482/7482 [==============================] - 1s 156us/step - loss: 1.3566 - acc: 0.5930 - val_loss: 1.8163 - val_acc: 0.5100\n",
      "Epoch 16/20\n",
      "7482/7482 [==============================] - 1s 159us/step - loss: 1.2229 - acc: 0.5990 - val_loss: 1.6853 - val_acc: 0.5133\n",
      "Epoch 17/20\n",
      "7482/7482 [==============================] - 1s 158us/step - loss: 1.0783 - acc: 0.6299 - val_loss: 1.5691 - val_acc: 0.5860\n",
      "Epoch 18/20\n",
      "7482/7482 [==============================] - 1s 192us/step - loss: 0.9573 - acc: 0.7618 - val_loss: 1.5213 - val_acc: 0.6747\n",
      "Epoch 19/20\n",
      "7482/7482 [==============================] - 1s 155us/step - loss: 0.8736 - acc: 0.8067 - val_loss: 1.4700 - val_acc: 0.6840\n",
      "Epoch 20/20\n",
      "7482/7482 [==============================] - 1s 158us/step - loss: 0.8104 - acc: 0.8145 - val_loss: 1.4740 - val_acc: 0.6933\n",
      "2246/2246 [==============================] - 0s 114us/step\n"
     ]
    }
   ],
   "source": [
    "# YOUR CODE HERE\n",
    "# Question 14\n",
    "model = models.Sequential()\n",
    "model.add(layers.Dense(64, activation='relu', input_shape=(10000,)))\n",
    "model.add(layers.Dense(64, activation='relu'))\n",
    "model.add(layers.Dense(46, activation='softmax'))\n",
    "\n",
    "model.compile(optimizer='rmsprop',\n",
    "              loss='categorical_crossentropy',\n",
    "              metrics=['accuracy'])\n",
    "\n",
    "history14 = model.fit(partial_x_train,\n",
    "          partial_y_train,\n",
    "          epochs=20,\n",
    "          batch_size=512,\n",
    "          validation_data=(x_val, y_val))\n",
    "\n",
    "results = model.evaluate(x_test, one_hot_test_labels)\n",
    "\n",
    "# Question 16\n",
    "model = models.Sequential()\n",
    "model.add(layers.Dense(64, activation='relu', input_shape=(10000,)))\n",
    "model.add(layers.Dense(4, activation='relu'))\n",
    "model.add(layers.Dense(46, activation='softmax'))\n",
    "\n",
    "model.compile(optimizer='rmsprop',\n",
    "              loss='categorical_crossentropy',\n",
    "              metrics=['accuracy'])\n",
    "\n",
    "history16 = model.fit(partial_x_train,\n",
    "          partial_y_train,\n",
    "          epochs=20,\n",
    "          batch_size=512,\n",
    "          validation_data=(x_val, y_val))\n",
    "\n",
    "results16 = model.evaluate(x_test, one_hot_test_labels)\n"
   ]
  },
  {
   "cell_type": "code",
   "execution_count": 33,
   "metadata": {},
   "outputs": [
    {
     "data": {
      "image/png": "[encoded data removed]",
      "text/plain": [
       "<matplotlib.figure.Figure at 0x7fbc8e025e48>"
      ]
     },
     "metadata": {},
     "output_type": "display_data"
    }
   ],
   "source": [
    "# Plot the results\n",
    "val_loss1 = history14.history['val_loss']\n",
    "val_loss2 = history16.history['val_loss']\n",
    "\n",
    "epochs = range(1, 21)\n",
    "\n",
    "plt.plot(epochs, val_loss1, 'bo', label='Original Network')\n",
    "plt.plot(epochs, val_loss2, 'b', label='Bottleneck Network')\n",
    "plt.title('Validation loss')\n",
    "plt.xlabel('Epochs')\n",
    "plt.ylabel('Loss')\n",
    "plt.legend()\n",
    "\n",
    "plt.show()"
   ]
  },
  {
   "cell_type": "markdown",
   "metadata": {},
   "source": [
    "The network from question 16 has a much higher loss value across all epochs. As the network from question 14 starts to overfit, the loss values get closer and start to converge."
   ]
  },
  {
   "cell_type": "markdown",
   "metadata": {},
   "source": [
    "#### Question 21\n",
    "\n",
    "Now add 2 `Dropout` layers to the original network. Make a plot of the validation loss across epochs for the original network and the dropout-regularized network. Comment on the difference.\n",
    "\n",
    "#### Answer 21"
   ]
  },
  {
   "cell_type": "code",
   "execution_count": 35,
   "metadata": {},
   "outputs": [
    {
     "name": "stdout",
     "output_type": "stream",
     "text": [
      "Train on 7482 samples, validate on 1500 samples\n",
      "Epoch 1/20\n",
      "7482/7482 [==============================] - 2s 215us/step - loss: 3.0018 - acc: 0.3248 - val_loss: 2.1652 - val_acc: 0.5347\n",
      "Epoch 2/20\n",
      "7482/7482 [==============================] - 1s 164us/step - loss: 2.1093 - acc: 0.4924 - val_loss: 1.7137 - val_acc: 0.6187\n",
      "Epoch 3/20\n",
      "7482/7482 [==============================] - 1s 189us/step - loss: 1.7570 - acc: 0.5810 - val_loss: 1.5080 - val_acc: 0.6667\n",
      "Epoch 4/20\n",
      "7482/7482 [==============================] - 1s 164us/step - loss: 1.5521 - acc: 0.6246 - val_loss: 1.3940 - val_acc: 0.6927\n",
      "Epoch 5/20\n",
      "7482/7482 [==============================] - 1s 159us/step - loss: 1.4112 - acc: 0.6593 - val_loss: 1.3247 - val_acc: 0.7007\n",
      "Epoch 6/20\n",
      "7482/7482 [==============================] - 1s 163us/step - loss: 1.3106 - acc: 0.6897 - val_loss: 1.2596 - val_acc: 0.7160\n",
      "Epoch 7/20\n",
      "7482/7482 [==============================] - 1s 159us/step - loss: 1.2328 - acc: 0.6982 - val_loss: 1.2234 - val_acc: 0.7273\n",
      "Epoch 8/20\n",
      "7482/7482 [==============================] - 1s 163us/step - loss: 1.1558 - acc: 0.7240 - val_loss: 1.1999 - val_acc: 0.7333\n",
      "Epoch 9/20\n",
      "7482/7482 [==============================] - 1s 160us/step - loss: 1.0926 - acc: 0.7335 - val_loss: 1.1718 - val_acc: 0.7433\n",
      "Epoch 10/20\n",
      "7482/7482 [==============================] - 1s 163us/step - loss: 1.0326 - acc: 0.7510 - val_loss: 1.1559 - val_acc: 0.7500\n",
      "Epoch 11/20\n",
      "7482/7482 [==============================] - 1s 188us/step - loss: 0.9738 - acc: 0.7636 - val_loss: 1.1363 - val_acc: 0.7507\n",
      "Epoch 12/20\n",
      "7482/7482 [==============================] - 1s 166us/step - loss: 0.9252 - acc: 0.7765 - val_loss: 1.1255 - val_acc: 0.7613\n",
      "Epoch 13/20\n",
      "7482/7482 [==============================] - 1s 159us/step - loss: 0.8990 - acc: 0.7775 - val_loss: 1.1337 - val_acc: 0.7647\n",
      "Epoch 14/20\n",
      "7482/7482 [==============================] - 1s 163us/step - loss: 0.8360 - acc: 0.7884 - val_loss: 1.1056 - val_acc: 0.7707\n",
      "Epoch 15/20\n",
      "7482/7482 [==============================] - 1s 161us/step - loss: 0.8122 - acc: 0.7970 - val_loss: 1.1028 - val_acc: 0.7740\n",
      "Epoch 16/20\n",
      "7482/7482 [==============================] - 1s 164us/step - loss: 0.7778 - acc: 0.8057 - val_loss: 1.1147 - val_acc: 0.7747\n",
      "Epoch 17/20\n",
      "7482/7482 [==============================] - 1s 161us/step - loss: 0.7462 - acc: 0.8122 - val_loss: 1.0938 - val_acc: 0.7773\n",
      "Epoch 18/20\n",
      "7482/7482 [==============================] - 1s 163us/step - loss: 0.7093 - acc: 0.8205 - val_loss: 1.1266 - val_acc: 0.7760\n",
      "Epoch 19/20\n",
      "7482/7482 [==============================] - 1s 180us/step - loss: 0.6930 - acc: 0.8218 - val_loss: 1.1046 - val_acc: 0.7813\n",
      "Epoch 20/20\n",
      "7482/7482 [==============================] - 1s 173us/step - loss: 0.6723 - acc: 0.8283 - val_loss: 1.1130 - val_acc: 0.7847\n",
      "2246/2246 [==============================] - 0s 122us/step\n"
     ]
    }
   ],
   "source": [
    "# YOUR CODE HERE\n",
    "model = models.Sequential()\n",
    "model.add(layers.Dense(64, activation='relu', input_shape=(10000,)))\n",
    "model.add(layers.Dropout(0.5))\n",
    "model.add(layers.Dense(64, activation='relu'))\n",
    "model.add(layers.Dropout(0.5))\n",
    "model.add(layers.Dense(46, activation='softmax'))\n",
    "\n",
    "model.compile(optimizer='rmsprop',\n",
    "              loss='categorical_crossentropy',\n",
    "              metrics=['accuracy'])\n",
    "\n",
    "history = model.fit(partial_x_train,\n",
    "          partial_y_train,\n",
    "          epochs=20,\n",
    "          batch_size=512,\n",
    "          validation_data=(x_val, y_val))\n",
    "\n",
    "results = model.evaluate(x_test, one_hot_test_labels)"
   ]
  },
  {
   "cell_type": "code",
   "execution_count": 36,
   "metadata": {},
   "outputs": [
    {
     "data": {
      "image/png": "[encoded data removed]",
      "text/plain": [
       "<matplotlib.figure.Figure at 0x7fbc6d42add8>"
      ]
     },
     "metadata": {},
     "output_type": "display_data"
    }
   ],
   "source": [
    "# Plot the results\n",
    "val_loss1 = history14.history['val_loss']\n",
    "val_loss2 = history.history['val_loss']\n",
    "\n",
    "epochs = range(1, 21)\n",
    "\n",
    "plt.plot(epochs, val_loss1, 'bo', label='Original Network')\n",
    "plt.plot(epochs, val_loss2, 'b', label='Dropout Network')\n",
    "plt.title('Validation loss')\n",
    "plt.xlabel('Epochs')\n",
    "plt.ylabel('Loss')\n",
    "plt.legend()\n",
    "\n",
    "plt.show()"
   ]
  },
  {
   "cell_type": "markdown",
   "metadata": {},
   "source": [
    "The model with dropout does have higher loss until epoch 18 where the loss values meet for each network. At this point, the model without dropout has already begun to overfit while the dropout model loss is starting to plateau."
   ]
  },
  {
   "cell_type": "markdown",
   "metadata": {},
   "source": [
    "#### Question 22\n",
    "\n",
    "Name another method to reduce overfitting.\n",
    "\n",
    "#### Answer 22\n",
    "\n",
    "Weight regularization."
   ]
  }
 ],
 "metadata": {
  "kernelspec": {
   "display_name": "Python 3",
   "language": "python",
   "name": "python3"
  },
  "language_info": {
   "codemirror_mode": {
    "name": "ipython",
    "version": 3
   },
   "file_extension": ".py",
   "mimetype": "text/x-python",
   "name": "python",
   "nbconvert_exporter": "python",
   "pygments_lexer": "ipython3",
   "version": "3.6.4"
  }
 },
 "nbformat": 4,
 "nbformat_minor": 2
}
